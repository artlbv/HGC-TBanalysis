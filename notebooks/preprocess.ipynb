{
 "cells": [
  {
   "cell_type": "code",
   "execution_count": 1,
   "metadata": {},
   "outputs": [
    {
     "name": "stdout",
     "output_type": "stream",
     "text": [
      "Welcome to JupyROOT 6.12/06\n"
     ]
    }
   ],
   "source": [
    "import pandas as pd\n",
    "import numpy as np\n",
    "\n",
    "from root_pandas import read_root"
   ]
  },
  {
   "cell_type": "code",
   "execution_count": 2,
   "metadata": {},
   "outputs": [],
   "source": [
    "import matplotlib.pyplot as plt\n",
    "from mpl_toolkits.mplot3d import Axes3D\n",
    "%matplotlib inline"
   ]
  },
  {
   "cell_type": "markdown",
   "metadata": {},
   "source": [
    "#### Declare branches to be used"
   ]
  },
  {
   "cell_type": "code",
   "execution_count": 3,
   "metadata": {},
   "outputs": [],
   "source": [
    "hits_branches = ['rechit_skiroc',\n",
    "        'rechit_channel',\n",
    "        'rechit_x',\n",
    "        'rechit_y',\n",
    "        'rechit_energy',\n",
    "        'rechit_layer'\n",
    "        ]\n",
    "\n",
    "info_branches = ['run', 'event','PI_positionX', 'PI_positionY',]\n",
    "\n",
    "tracks_branches = ['ntracks',\n",
    "         'impactX_HGCal_layer_1',\n",
    "         'impactY_HGCal_layer_1'\n",
    "        ]"
   ]
  },
  {
   "cell_type": "code",
   "execution_count": 4,
   "metadata": {},
   "outputs": [],
   "source": [
    "fname = \"calo_setup/ntuple_1222.root\""
   ]
  },
  {
   "cell_type": "code",
   "execution_count": 5,
   "metadata": {},
   "outputs": [],
   "source": [
    "df_hits = read_root(fname, \"rechitntupler/hits\", columns = hits_branches)\n",
    "df_info = read_root(fname, \"rechitntupler/hits\", columns = info_branches)\n",
    "df_tracks = read_root(fname, \"trackimpactntupler/impactPoints\", columns = tracks_branches)"
   ]
  },
  {
   "cell_type": "markdown",
   "metadata": {},
   "source": [
    "#### Merge dataframes into one"
   ]
  },
  {
   "cell_type": "code",
   "execution_count": 6,
   "metadata": {},
   "outputs": [],
   "source": [
    "df_all = pd.concat([df_info, df_hits, df_tracks], axis=1, join_axes=[df_hits.index])"
   ]
  },
  {
   "cell_type": "code",
   "execution_count": 7,
   "metadata": {},
   "outputs": [
    {
     "data": {
      "text/html": [
       "<div>\n",
       "<style scoped>\n",
       "    .dataframe tbody tr th:only-of-type {\n",
       "        vertical-align: middle;\n",
       "    }\n",
       "\n",
       "    .dataframe tbody tr th {\n",
       "        vertical-align: top;\n",
       "    }\n",
       "\n",
       "    .dataframe thead th {\n",
       "        text-align: right;\n",
       "    }\n",
       "</style>\n",
       "<table border=\"1\" class=\"dataframe\">\n",
       "  <thead>\n",
       "    <tr style=\"text-align: right;\">\n",
       "      <th></th>\n",
       "      <th>PI_positionY</th>\n",
       "      <th>PI_positionX</th>\n",
       "      <th>run</th>\n",
       "      <th>event</th>\n",
       "      <th>rechit_x</th>\n",
       "      <th>rechit_y</th>\n",
       "      <th>rechit_channel</th>\n",
       "      <th>rechit_energy</th>\n",
       "      <th>rechit_skiroc</th>\n",
       "      <th>rechit_layer</th>\n",
       "      <th>impactY_HGCal_layer_1</th>\n",
       "      <th>ntracks</th>\n",
       "      <th>impactX_HGCal_layer_1</th>\n",
       "    </tr>\n",
       "  </thead>\n",
       "  <tbody>\n",
       "    <tr>\n",
       "      <th>0</th>\n",
       "      <td>-999.0</td>\n",
       "      <td>-999.0</td>\n",
       "      <td>1222</td>\n",
       "      <td>1</td>\n",
       "      <td>[1.000202e-05, -1.9488935, 1.000202e-05, -0.97...</td>\n",
       "      <td>[1.12519, 1.0003498e-05, 1.12519, -5.06339, 1....</td>\n",
       "      <td>[36, 18, 34, 20, 26, 24, 18, 30, 28, 22, 34, 3...</td>\n",
       "      <td>[0.35155967, 0.39493895, 0.49695483, 1.9753718...</td>\n",
       "      <td>[3, 0, 5, 7, 4, 4, 7, 4, 4, 4, 4, 7, 7, 7, 7, ...</td>\n",
       "      <td>[1, 1, 2, 2, 2, 2, 2, 2, 2, 2, 2, 2, 2, 2, 2, ...</td>\n",
       "      <td>[-1.2472391]</td>\n",
       "      <td>1</td>\n",
       "      <td>[-5.3245564]</td>\n",
       "    </tr>\n",
       "    <tr>\n",
       "      <th>1</th>\n",
       "      <td>-999.0</td>\n",
       "      <td>-999.0</td>\n",
       "      <td>1222</td>\n",
       "      <td>2</td>\n",
       "      <td>[9.989902e-06, 2.9233453, 0.97444177, 1e-05, -...</td>\n",
       "      <td>[-5.62599, -2.81299, 0.56259, 1e-05, -2.81299,...</td>\n",
       "      <td>[8, 44, 38, 36, 56, 26, 18, 28, 32, 44, 36, 38...</td>\n",
       "      <td>[0.5169128, 1.070182, 0.35918677, 1.1010299, 1...</td>\n",
       "      <td>[1, 1, 2, 6, 7, 4, 7, 4, 7, 5, 11, 11, 11, 11,...</td>\n",
       "      <td>[1, 1, 1, 2, 2, 2, 2, 2, 2, 2, 3, 3, 3, 3, 3, ...</td>\n",
       "      <td>[2.4550781]</td>\n",
       "      <td>1</td>\n",
       "      <td>[0.63384724]</td>\n",
       "    </tr>\n",
       "  </tbody>\n",
       "</table>\n",
       "</div>"
      ],
      "text/plain": [
       "   PI_positionY  PI_positionX   run  event  \\\n",
       "0        -999.0        -999.0  1222      1   \n",
       "1        -999.0        -999.0  1222      2   \n",
       "\n",
       "                                            rechit_x  \\\n",
       "0  [1.000202e-05, -1.9488935, 1.000202e-05, -0.97...   \n",
       "1  [9.989902e-06, 2.9233453, 0.97444177, 1e-05, -...   \n",
       "\n",
       "                                            rechit_y  \\\n",
       "0  [1.12519, 1.0003498e-05, 1.12519, -5.06339, 1....   \n",
       "1  [-5.62599, -2.81299, 0.56259, 1e-05, -2.81299,...   \n",
       "\n",
       "                                      rechit_channel  \\\n",
       "0  [36, 18, 34, 20, 26, 24, 18, 30, 28, 22, 34, 3...   \n",
       "1  [8, 44, 38, 36, 56, 26, 18, 28, 32, 44, 36, 38...   \n",
       "\n",
       "                                       rechit_energy  \\\n",
       "0  [0.35155967, 0.39493895, 0.49695483, 1.9753718...   \n",
       "1  [0.5169128, 1.070182, 0.35918677, 1.1010299, 1...   \n",
       "\n",
       "                                       rechit_skiroc  \\\n",
       "0  [3, 0, 5, 7, 4, 4, 7, 4, 4, 4, 4, 7, 7, 7, 7, ...   \n",
       "1  [1, 1, 2, 6, 7, 4, 7, 4, 7, 5, 11, 11, 11, 11,...   \n",
       "\n",
       "                                        rechit_layer impactY_HGCal_layer_1  \\\n",
       "0  [1, 1, 2, 2, 2, 2, 2, 2, 2, 2, 2, 2, 2, 2, 2, ...          [-1.2472391]   \n",
       "1  [1, 1, 1, 2, 2, 2, 2, 2, 2, 2, 3, 3, 3, 3, 3, ...           [2.4550781]   \n",
       "\n",
       "   ntracks impactX_HGCal_layer_1  \n",
       "0        1          [-5.3245564]  \n",
       "1        1          [0.63384724]  "
      ]
     },
     "execution_count": 7,
     "metadata": {},
     "output_type": "execute_result"
    }
   ],
   "source": [
    "df_all[:2]"
   ]
  },
  {
   "cell_type": "markdown",
   "metadata": {},
   "source": [
    "#### Calculate number of hits in a layer"
   ]
  },
  {
   "cell_type": "code",
   "execution_count": 8,
   "metadata": {},
   "outputs": [],
   "source": [
    "def rh_filter(rh_row, layer = 1):\n",
    "    select = (rh_row.rechit_layer == layer)\n",
    "    select &= rh_row.rechit_energy > 0.3\n",
    "    return len(rh_row.rechit_x[select])"
   ]
  },
  {
   "cell_type": "code",
   "execution_count": 9,
   "metadata": {},
   "outputs": [],
   "source": [
    "df_all['nhits'] = df_all.apply(rh_filter, axis=1)"
   ]
  },
  {
   "cell_type": "code",
   "execution_count": 10,
   "metadata": {},
   "outputs": [
    {
     "data": {
      "text/html": [
       "<div>\n",
       "<style scoped>\n",
       "    .dataframe tbody tr th:only-of-type {\n",
       "        vertical-align: middle;\n",
       "    }\n",
       "\n",
       "    .dataframe tbody tr th {\n",
       "        vertical-align: top;\n",
       "    }\n",
       "\n",
       "    .dataframe thead th {\n",
       "        text-align: right;\n",
       "    }\n",
       "</style>\n",
       "<table border=\"1\" class=\"dataframe\">\n",
       "  <thead>\n",
       "    <tr style=\"text-align: right;\">\n",
       "      <th></th>\n",
       "      <th>PI_positionY</th>\n",
       "      <th>PI_positionX</th>\n",
       "      <th>run</th>\n",
       "      <th>event</th>\n",
       "      <th>rechit_x</th>\n",
       "      <th>rechit_y</th>\n",
       "      <th>rechit_channel</th>\n",
       "      <th>rechit_energy</th>\n",
       "      <th>rechit_skiroc</th>\n",
       "      <th>rechit_layer</th>\n",
       "      <th>impactY_HGCal_layer_1</th>\n",
       "      <th>ntracks</th>\n",
       "      <th>impactX_HGCal_layer_1</th>\n",
       "      <th>nhits</th>\n",
       "    </tr>\n",
       "  </thead>\n",
       "  <tbody>\n",
       "    <tr>\n",
       "      <th>0</th>\n",
       "      <td>-999.0</td>\n",
       "      <td>-999.0</td>\n",
       "      <td>1222</td>\n",
       "      <td>1</td>\n",
       "      <td>[1.000202e-05, -1.9488935, 1.000202e-05, -0.97...</td>\n",
       "      <td>[1.12519, 1.0003498e-05, 1.12519, -5.06339, 1....</td>\n",
       "      <td>[36, 18, 34, 20, 26, 24, 18, 30, 28, 22, 34, 3...</td>\n",
       "      <td>[0.35155967, 0.39493895, 0.49695483, 1.9753718...</td>\n",
       "      <td>[3, 0, 5, 7, 4, 4, 7, 4, 4, 4, 4, 7, 7, 7, 7, ...</td>\n",
       "      <td>[1, 1, 2, 2, 2, 2, 2, 2, 2, 2, 2, 2, 2, 2, 2, ...</td>\n",
       "      <td>[-1.2472391]</td>\n",
       "      <td>1</td>\n",
       "      <td>[-5.3245564]</td>\n",
       "      <td>2</td>\n",
       "    </tr>\n",
       "    <tr>\n",
       "      <th>1</th>\n",
       "      <td>-999.0</td>\n",
       "      <td>-999.0</td>\n",
       "      <td>1222</td>\n",
       "      <td>2</td>\n",
       "      <td>[9.989902e-06, 2.9233453, 0.97444177, 1e-05, -...</td>\n",
       "      <td>[-5.62599, -2.81299, 0.56259, 1e-05, -2.81299,...</td>\n",
       "      <td>[8, 44, 38, 36, 56, 26, 18, 28, 32, 44, 36, 38...</td>\n",
       "      <td>[0.5169128, 1.070182, 0.35918677, 1.1010299, 1...</td>\n",
       "      <td>[1, 1, 2, 6, 7, 4, 7, 4, 7, 5, 11, 11, 11, 11,...</td>\n",
       "      <td>[1, 1, 1, 2, 2, 2, 2, 2, 2, 2, 3, 3, 3, 3, 3, ...</td>\n",
       "      <td>[2.4550781]</td>\n",
       "      <td>1</td>\n",
       "      <td>[0.63384724]</td>\n",
       "      <td>3</td>\n",
       "    </tr>\n",
       "  </tbody>\n",
       "</table>\n",
       "</div>"
      ],
      "text/plain": [
       "   PI_positionY  PI_positionX   run  event  \\\n",
       "0        -999.0        -999.0  1222      1   \n",
       "1        -999.0        -999.0  1222      2   \n",
       "\n",
       "                                            rechit_x  \\\n",
       "0  [1.000202e-05, -1.9488935, 1.000202e-05, -0.97...   \n",
       "1  [9.989902e-06, 2.9233453, 0.97444177, 1e-05, -...   \n",
       "\n",
       "                                            rechit_y  \\\n",
       "0  [1.12519, 1.0003498e-05, 1.12519, -5.06339, 1....   \n",
       "1  [-5.62599, -2.81299, 0.56259, 1e-05, -2.81299,...   \n",
       "\n",
       "                                      rechit_channel  \\\n",
       "0  [36, 18, 34, 20, 26, 24, 18, 30, 28, 22, 34, 3...   \n",
       "1  [8, 44, 38, 36, 56, 26, 18, 28, 32, 44, 36, 38...   \n",
       "\n",
       "                                       rechit_energy  \\\n",
       "0  [0.35155967, 0.39493895, 0.49695483, 1.9753718...   \n",
       "1  [0.5169128, 1.070182, 0.35918677, 1.1010299, 1...   \n",
       "\n",
       "                                       rechit_skiroc  \\\n",
       "0  [3, 0, 5, 7, 4, 4, 7, 4, 4, 4, 4, 7, 7, 7, 7, ...   \n",
       "1  [1, 1, 2, 6, 7, 4, 7, 4, 7, 5, 11, 11, 11, 11,...   \n",
       "\n",
       "                                        rechit_layer impactY_HGCal_layer_1  \\\n",
       "0  [1, 1, 2, 2, 2, 2, 2, 2, 2, 2, 2, 2, 2, 2, 2, ...          [-1.2472391]   \n",
       "1  [1, 1, 1, 2, 2, 2, 2, 2, 2, 2, 3, 3, 3, 3, 3, ...           [2.4550781]   \n",
       "\n",
       "   ntracks impactX_HGCal_layer_1  nhits  \n",
       "0        1          [-5.3245564]      2  \n",
       "1        1          [0.63384724]      3  "
      ]
     },
     "execution_count": 10,
     "metadata": {},
     "output_type": "execute_result"
    }
   ],
   "source": [
    "df_all[:2]"
   ]
  },
  {
   "cell_type": "markdown",
   "metadata": {},
   "source": [
    "### Clean ntracks == 1 events and create new branch"
   ]
  },
  {
   "cell_type": "code",
   "execution_count": 11,
   "metadata": {},
   "outputs": [],
   "source": [
    "selection = df_all.ntracks == 1\n",
    "selection &= df_all.nhits == 1"
   ]
  },
  {
   "cell_type": "code",
   "execution_count": 12,
   "metadata": {},
   "outputs": [],
   "source": [
    "df_all = df_all[selection]"
   ]
  },
  {
   "cell_type": "markdown",
   "metadata": {},
   "source": [
    "### Define globalimpact position from the single track"
   ]
  },
  {
   "cell_type": "code",
   "execution_count": 13,
   "metadata": {},
   "outputs": [],
   "source": [
    "## convert Series to float for impact position (take first element, which for ntracks=1 is the only one)\n",
    "impact_x = df_all.apply(lambda row: row.impactX_HGCal_layer_1[0], axis=1)\n",
    "impact_y = df_all.apply(lambda row: row.impactY_HGCal_layer_1[0], axis=1)"
   ]
  },
  {
   "cell_type": "code",
   "execution_count": 14,
   "metadata": {},
   "outputs": [],
   "source": [
    "# create columns for impacts\n",
    "df_all.loc[impact_x.index, 'impact_x'] = impact_x\n",
    "df_all.loc[impact_y.index, 'impact_y'] = impact_y"
   ]
  },
  {
   "cell_type": "code",
   "execution_count": 15,
   "metadata": {},
   "outputs": [],
   "source": [
    "# Fix PI position: put to 0 if not available\n",
    "df_all.PI_positionX = df_all.apply(lambda row: max(row.PI_positionX,0), axis=1)\n",
    "df_all.PI_positionY = df_all.apply(lambda row: max(row.PI_positionY,0), axis=1)"
   ]
  },
  {
   "cell_type": "code",
   "execution_count": 16,
   "metadata": {},
   "outputs": [],
   "source": [
    "# Construct impact from track impact and PI position\n",
    "df_all['impact_x'] = df_all.impact_x + df_all.PI_positionX\n",
    "df_all['impact_y'] = df_all.impact_y + df_all.PI_positionY"
   ]
  },
  {
   "cell_type": "code",
   "execution_count": 17,
   "metadata": {},
   "outputs": [],
   "source": [
    "# scale to cm\n",
    "df_all['impact_x'] /= 10\n",
    "df_all['impact_y'] /= 10"
   ]
  },
  {
   "cell_type": "code",
   "execution_count": 18,
   "metadata": {},
   "outputs": [
    {
     "data": {
      "text/html": [
       "<div>\n",
       "<style scoped>\n",
       "    .dataframe tbody tr th:only-of-type {\n",
       "        vertical-align: middle;\n",
       "    }\n",
       "\n",
       "    .dataframe tbody tr th {\n",
       "        vertical-align: top;\n",
       "    }\n",
       "\n",
       "    .dataframe thead th {\n",
       "        text-align: right;\n",
       "    }\n",
       "</style>\n",
       "<table border=\"1\" class=\"dataframe\">\n",
       "  <thead>\n",
       "    <tr style=\"text-align: right;\">\n",
       "      <th></th>\n",
       "      <th>PI_positionY</th>\n",
       "      <th>PI_positionX</th>\n",
       "      <th>run</th>\n",
       "      <th>event</th>\n",
       "      <th>rechit_x</th>\n",
       "      <th>rechit_y</th>\n",
       "      <th>rechit_channel</th>\n",
       "      <th>rechit_energy</th>\n",
       "      <th>rechit_skiroc</th>\n",
       "      <th>rechit_layer</th>\n",
       "      <th>impactY_HGCal_layer_1</th>\n",
       "      <th>ntracks</th>\n",
       "      <th>impactX_HGCal_layer_1</th>\n",
       "      <th>nhits</th>\n",
       "      <th>impact_x</th>\n",
       "      <th>impact_y</th>\n",
       "    </tr>\n",
       "  </thead>\n",
       "  <tbody>\n",
       "    <tr>\n",
       "      <th>5</th>\n",
       "      <td>0</td>\n",
       "      <td>0</td>\n",
       "      <td>1222</td>\n",
       "      <td>6</td>\n",
       "      <td>[-2.9233453, 9.997981e-06, -0.97444177, -1.948...</td>\n",
       "      <td>[-1.6877899, -1.12519, 1.6877899, -5.62599, 3....</td>\n",
       "      <td>[40, 36, 26, 18, 30, 28, 32, 48, 36, 32, 30, 2...</td>\n",
       "      <td>[0.3699954, 4.102713, 7.0221953, 4.0269313, 1....</td>\n",
       "      <td>[0, 7, 4, 7, 4, 4, 4, 4, 4, 7, 7, 7, 7, 7, 11,...</td>\n",
       "      <td>[1, 2, 2, 2, 2, 2, 2, 2, 2, 2, 2, 2, 2, 2, 3, ...</td>\n",
       "      <td>[1.6950089]</td>\n",
       "      <td>1</td>\n",
       "      <td>[-2.7425716]</td>\n",
       "      <td>1</td>\n",
       "      <td>-0.274257</td>\n",
       "      <td>0.169501</td>\n",
       "    </tr>\n",
       "    <tr>\n",
       "      <th>13</th>\n",
       "      <td>0</td>\n",
       "      <td>0</td>\n",
       "      <td>1222</td>\n",
       "      <td>14</td>\n",
       "      <td>[-0.97444177, -3.897797, 1e-05, 9.997981e-06, ...</td>\n",
       "      <td>[-0.56259, 1.00069965e-05, 1e-05, -1.12519, 1....</td>\n",
       "      <td>[24, 2, 36, 36, 26, 28, 32, 34, 32, 30, 22, 34...</td>\n",
       "      <td>[0.83746463, 0.29761407, 1.0459461, 1.8773766,...</td>\n",
       "      <td>[0, 0, 6, 7, 4, 4, 7, 6, 6, 7, 7, 7, 11, 11, 9...</td>\n",
       "      <td>[1, 1, 2, 2, 2, 2, 2, 2, 2, 2, 2, 2, 3, 3, 3, ...</td>\n",
       "      <td>[1.1340532]</td>\n",
       "      <td>1</td>\n",
       "      <td>[4.8897667]</td>\n",
       "      <td>1</td>\n",
       "      <td>0.488977</td>\n",
       "      <td>0.113405</td>\n",
       "    </tr>\n",
       "  </tbody>\n",
       "</table>\n",
       "</div>"
      ],
      "text/plain": [
       "    PI_positionY  PI_positionX   run  event  \\\n",
       "5              0             0  1222      6   \n",
       "13             0             0  1222     14   \n",
       "\n",
       "                                             rechit_x  \\\n",
       "5   [-2.9233453, 9.997981e-06, -0.97444177, -1.948...   \n",
       "13  [-0.97444177, -3.897797, 1e-05, 9.997981e-06, ...   \n",
       "\n",
       "                                             rechit_y  \\\n",
       "5   [-1.6877899, -1.12519, 1.6877899, -5.62599, 3....   \n",
       "13  [-0.56259, 1.00069965e-05, 1e-05, -1.12519, 1....   \n",
       "\n",
       "                                       rechit_channel  \\\n",
       "5   [40, 36, 26, 18, 30, 28, 32, 48, 36, 32, 30, 2...   \n",
       "13  [24, 2, 36, 36, 26, 28, 32, 34, 32, 30, 22, 34...   \n",
       "\n",
       "                                        rechit_energy  \\\n",
       "5   [0.3699954, 4.102713, 7.0221953, 4.0269313, 1....   \n",
       "13  [0.83746463, 0.29761407, 1.0459461, 1.8773766,...   \n",
       "\n",
       "                                        rechit_skiroc  \\\n",
       "5   [0, 7, 4, 7, 4, 4, 4, 4, 4, 7, 7, 7, 7, 7, 11,...   \n",
       "13  [0, 0, 6, 7, 4, 4, 7, 6, 6, 7, 7, 7, 11, 11, 9...   \n",
       "\n",
       "                                         rechit_layer impactY_HGCal_layer_1  \\\n",
       "5   [1, 2, 2, 2, 2, 2, 2, 2, 2, 2, 2, 2, 2, 2, 3, ...           [1.6950089]   \n",
       "13  [1, 1, 2, 2, 2, 2, 2, 2, 2, 2, 2, 2, 3, 3, 3, ...           [1.1340532]   \n",
       "\n",
       "    ntracks impactX_HGCal_layer_1  nhits  impact_x  impact_y  \n",
       "5         1          [-2.7425716]      1 -0.274257  0.169501  \n",
       "13        1           [4.8897667]      1  0.488977  0.113405  "
      ]
     },
     "execution_count": 18,
     "metadata": {},
     "output_type": "execute_result"
    }
   ],
   "source": [
    "df_all[:2]"
   ]
  },
  {
   "cell_type": "markdown",
   "metadata": {},
   "source": [
    "### Remove unneeded branches like PI position, etc."
   ]
  },
  {
   "cell_type": "code",
   "execution_count": 19,
   "metadata": {},
   "outputs": [],
   "source": [
    "drop_columns = ['PI_positionY', 'PI_positionX', 'impactY_HGCal_layer_1', 'impactX_HGCal_layer_1']\n",
    "df_all = df_all.drop(columns=drop_columns, axis=0)"
   ]
  },
  {
   "cell_type": "code",
   "execution_count": 20,
   "metadata": {},
   "outputs": [
    {
     "data": {
      "text/html": [
       "<div>\n",
       "<style scoped>\n",
       "    .dataframe tbody tr th:only-of-type {\n",
       "        vertical-align: middle;\n",
       "    }\n",
       "\n",
       "    .dataframe tbody tr th {\n",
       "        vertical-align: top;\n",
       "    }\n",
       "\n",
       "    .dataframe thead th {\n",
       "        text-align: right;\n",
       "    }\n",
       "</style>\n",
       "<table border=\"1\" class=\"dataframe\">\n",
       "  <thead>\n",
       "    <tr style=\"text-align: right;\">\n",
       "      <th></th>\n",
       "      <th>run</th>\n",
       "      <th>event</th>\n",
       "      <th>rechit_x</th>\n",
       "      <th>rechit_y</th>\n",
       "      <th>rechit_channel</th>\n",
       "      <th>rechit_energy</th>\n",
       "      <th>rechit_skiroc</th>\n",
       "      <th>rechit_layer</th>\n",
       "      <th>ntracks</th>\n",
       "      <th>nhits</th>\n",
       "      <th>impact_x</th>\n",
       "      <th>impact_y</th>\n",
       "    </tr>\n",
       "  </thead>\n",
       "  <tbody>\n",
       "    <tr>\n",
       "      <th>5</th>\n",
       "      <td>1222</td>\n",
       "      <td>6</td>\n",
       "      <td>[-2.9233453, 9.997981e-06, -0.97444177, -1.948...</td>\n",
       "      <td>[-1.6877899, -1.12519, 1.6877899, -5.62599, 3....</td>\n",
       "      <td>[40, 36, 26, 18, 30, 28, 32, 48, 36, 32, 30, 2...</td>\n",
       "      <td>[0.3699954, 4.102713, 7.0221953, 4.0269313, 1....</td>\n",
       "      <td>[0, 7, 4, 7, 4, 4, 4, 4, 4, 7, 7, 7, 7, 7, 11,...</td>\n",
       "      <td>[1, 2, 2, 2, 2, 2, 2, 2, 2, 2, 2, 2, 2, 2, 3, ...</td>\n",
       "      <td>1</td>\n",
       "      <td>1</td>\n",
       "      <td>-0.274257</td>\n",
       "      <td>0.169501</td>\n",
       "    </tr>\n",
       "    <tr>\n",
       "      <th>13</th>\n",
       "      <td>1222</td>\n",
       "      <td>14</td>\n",
       "      <td>[-0.97444177, -3.897797, 1e-05, 9.997981e-06, ...</td>\n",
       "      <td>[-0.56259, 1.00069965e-05, 1e-05, -1.12519, 1....</td>\n",
       "      <td>[24, 2, 36, 36, 26, 28, 32, 34, 32, 30, 22, 34...</td>\n",
       "      <td>[0.83746463, 0.29761407, 1.0459461, 1.8773766,...</td>\n",
       "      <td>[0, 0, 6, 7, 4, 4, 7, 6, 6, 7, 7, 7, 11, 11, 9...</td>\n",
       "      <td>[1, 1, 2, 2, 2, 2, 2, 2, 2, 2, 2, 2, 3, 3, 3, ...</td>\n",
       "      <td>1</td>\n",
       "      <td>1</td>\n",
       "      <td>0.488977</td>\n",
       "      <td>0.113405</td>\n",
       "    </tr>\n",
       "  </tbody>\n",
       "</table>\n",
       "</div>"
      ],
      "text/plain": [
       "     run  event                                           rechit_x  \\\n",
       "5   1222      6  [-2.9233453, 9.997981e-06, -0.97444177, -1.948...   \n",
       "13  1222     14  [-0.97444177, -3.897797, 1e-05, 9.997981e-06, ...   \n",
       "\n",
       "                                             rechit_y  \\\n",
       "5   [-1.6877899, -1.12519, 1.6877899, -5.62599, 3....   \n",
       "13  [-0.56259, 1.00069965e-05, 1e-05, -1.12519, 1....   \n",
       "\n",
       "                                       rechit_channel  \\\n",
       "5   [40, 36, 26, 18, 30, 28, 32, 48, 36, 32, 30, 2...   \n",
       "13  [24, 2, 36, 36, 26, 28, 32, 34, 32, 30, 22, 34...   \n",
       "\n",
       "                                        rechit_energy  \\\n",
       "5   [0.3699954, 4.102713, 7.0221953, 4.0269313, 1....   \n",
       "13  [0.83746463, 0.29761407, 1.0459461, 1.8773766,...   \n",
       "\n",
       "                                        rechit_skiroc  \\\n",
       "5   [0, 7, 4, 7, 4, 4, 4, 4, 4, 7, 7, 7, 7, 7, 11,...   \n",
       "13  [0, 0, 6, 7, 4, 4, 7, 6, 6, 7, 7, 7, 11, 11, 9...   \n",
       "\n",
       "                                         rechit_layer  ntracks  nhits  \\\n",
       "5   [1, 2, 2, 2, 2, 2, 2, 2, 2, 2, 2, 2, 2, 2, 3, ...        1      1   \n",
       "13  [1, 1, 2, 2, 2, 2, 2, 2, 2, 2, 2, 2, 3, 3, 3, ...        1      1   \n",
       "\n",
       "    impact_x  impact_y  \n",
       "5  -0.274257  0.169501  \n",
       "13  0.488977  0.113405  "
      ]
     },
     "execution_count": 20,
     "metadata": {},
     "output_type": "execute_result"
    }
   ],
   "source": [
    "df_all[:2]"
   ]
  },
  {
   "cell_type": "markdown",
   "metadata": {},
   "source": [
    "### Clean rechits: Series -> values (select only first rechit)"
   ]
  },
  {
   "cell_type": "code",
   "execution_count": 23,
   "metadata": {},
   "outputs": [],
   "source": [
    "for branch in hits_branches:\n",
    "    df_all[branch] = df_all[branch].apply(lambda x: x[0])"
   ]
  },
  {
   "cell_type": "code",
   "execution_count": 24,
   "metadata": {},
   "outputs": [
    {
     "data": {
      "text/html": [
       "<div>\n",
       "<style scoped>\n",
       "    .dataframe tbody tr th:only-of-type {\n",
       "        vertical-align: middle;\n",
       "    }\n",
       "\n",
       "    .dataframe tbody tr th {\n",
       "        vertical-align: top;\n",
       "    }\n",
       "\n",
       "    .dataframe thead th {\n",
       "        text-align: right;\n",
       "    }\n",
       "</style>\n",
       "<table border=\"1\" class=\"dataframe\">\n",
       "  <thead>\n",
       "    <tr style=\"text-align: right;\">\n",
       "      <th></th>\n",
       "      <th>run</th>\n",
       "      <th>event</th>\n",
       "      <th>rechit_x</th>\n",
       "      <th>rechit_y</th>\n",
       "      <th>rechit_channel</th>\n",
       "      <th>rechit_energy</th>\n",
       "      <th>rechit_skiroc</th>\n",
       "      <th>rechit_layer</th>\n",
       "      <th>ntracks</th>\n",
       "      <th>nhits</th>\n",
       "      <th>impact_x</th>\n",
       "      <th>impact_y</th>\n",
       "    </tr>\n",
       "  </thead>\n",
       "  <tbody>\n",
       "    <tr>\n",
       "      <th>5</th>\n",
       "      <td>1222</td>\n",
       "      <td>6</td>\n",
       "      <td>-2.923345</td>\n",
       "      <td>-1.68779</td>\n",
       "      <td>40</td>\n",
       "      <td>0.369995</td>\n",
       "      <td>0</td>\n",
       "      <td>1</td>\n",
       "      <td>1</td>\n",
       "      <td>1</td>\n",
       "      <td>-0.274257</td>\n",
       "      <td>0.169501</td>\n",
       "    </tr>\n",
       "    <tr>\n",
       "      <th>13</th>\n",
       "      <td>1222</td>\n",
       "      <td>14</td>\n",
       "      <td>-0.974442</td>\n",
       "      <td>-0.56259</td>\n",
       "      <td>24</td>\n",
       "      <td>0.837465</td>\n",
       "      <td>0</td>\n",
       "      <td>1</td>\n",
       "      <td>1</td>\n",
       "      <td>1</td>\n",
       "      <td>0.488977</td>\n",
       "      <td>0.113405</td>\n",
       "    </tr>\n",
       "  </tbody>\n",
       "</table>\n",
       "</div>"
      ],
      "text/plain": [
       "     run  event  rechit_x  rechit_y  rechit_channel  rechit_energy  \\\n",
       "5   1222      6 -2.923345  -1.68779              40       0.369995   \n",
       "13  1222     14 -0.974442  -0.56259              24       0.837465   \n",
       "\n",
       "    rechit_skiroc  rechit_layer  ntracks  nhits  impact_x  impact_y  \n",
       "5               0             1        1      1 -0.274257  0.169501  \n",
       "13              0             1        1      1  0.488977  0.113405  "
      ]
     },
     "execution_count": 24,
     "metadata": {},
     "output_type": "execute_result"
    }
   ],
   "source": [
    "df_all[:2]"
   ]
  },
  {
   "cell_type": "code",
   "execution_count": 25,
   "metadata": {},
   "outputs": [],
   "source": [
    "df_all.to_root(\"out.root\",key = \"tree\")"
   ]
  }
 ],
 "metadata": {
  "kernelspec": {
   "display_name": "Python 2",
   "language": "python",
   "name": "python2"
  },
  "language_info": {
   "codemirror_mode": {
    "name": "ipython",
    "version": 2
   },
   "file_extension": ".py",
   "mimetype": "text/x-python",
   "name": "python",
   "nbconvert_exporter": "python",
   "pygments_lexer": "ipython2",
   "version": "2.7.15"
  }
 },
 "nbformat": 4,
 "nbformat_minor": 2
}
