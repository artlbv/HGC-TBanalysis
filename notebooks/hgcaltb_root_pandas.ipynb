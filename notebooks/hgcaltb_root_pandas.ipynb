{
 "cells": [
  {
   "cell_type": "code",
   "execution_count": 1,
   "metadata": {},
   "outputs": [
    {
     "name": "stdout",
     "output_type": "stream",
     "text": [
      "Welcome to JupyROOT 6.12/06\n"
     ]
    }
   ],
   "source": [
    "import uproot\n",
    "import pandas as pd\n",
    "import numpy as np\n",
    "\n",
    "from root_pandas import read_root\n",
    "\n",
    "import matplotlib.pyplot as plt\n",
    "from mpl_toolkits.mplot3d import Axes3D\n",
    "\n",
    "import concurrent.futures, multiprocessing\n",
    "ncpu = multiprocessing.cpu_count()\n",
    "executor = concurrent.futures.ThreadPoolExecutor(ncpu*4)\n",
    "\n",
    "%matplotlib inline"
   ]
  },
  {
   "cell_type": "code",
   "execution_count": 2,
   "metadata": {},
   "outputs": [],
   "source": [
    "hits_branches = ['rechit_skiroc',\n",
    "        'rechit_channel',\n",
    "        'rechit_x',\n",
    "        'rechit_y',\n",
    "        'rechit_energy',\n",
    "        'rechit_layer'\n",
    "        ]\n",
    "\n",
    "info_branches = ['run', 'event','PI_positionX', 'PI_positionY',]\n",
    "\n",
    "tracks_branches = ['ntracks',\n",
    "         'impactX_HGCal_layer_1',\n",
    "         'impactY_HGCal_layer_1'\n",
    "        ]"
   ]
  },
  {
   "cell_type": "code",
   "execution_count": 3,
   "metadata": {},
   "outputs": [],
   "source": [
    "fname = \"calo_setup/ntuple_1222.root\"\n",
    "\n",
    "df = read_root(fname, \"rechitntupler/hits\", columns = hits_branches + info_branches)"
   ]
  },
  {
   "cell_type": "code",
   "execution_count": 4,
   "metadata": {},
   "outputs": [
    {
     "data": {
      "text/html": [
       "<div>\n",
       "<style scoped>\n",
       "    .dataframe tbody tr th:only-of-type {\n",
       "        vertical-align: middle;\n",
       "    }\n",
       "\n",
       "    .dataframe tbody tr th {\n",
       "        vertical-align: top;\n",
       "    }\n",
       "\n",
       "    .dataframe thead th {\n",
       "        text-align: right;\n",
       "    }\n",
       "</style>\n",
       "<table border=\"1\" class=\"dataframe\">\n",
       "  <thead>\n",
       "    <tr style=\"text-align: right;\">\n",
       "      <th></th>\n",
       "      <th>rechit_x</th>\n",
       "      <th>rechit_y</th>\n",
       "      <th>rechit_layer</th>\n",
       "      <th>run</th>\n",
       "      <th>rechit_channel</th>\n",
       "      <th>rechit_energy</th>\n",
       "      <th>rechit_skiroc</th>\n",
       "      <th>PI_positionY</th>\n",
       "      <th>PI_positionX</th>\n",
       "      <th>event</th>\n",
       "    </tr>\n",
       "  </thead>\n",
       "  <tbody>\n",
       "    <tr>\n",
       "      <th>0</th>\n",
       "      <td>[1.000202e-05, -1.9488935, 1.000202e-05, -0.97...</td>\n",
       "      <td>[1.12519, 1.0003498e-05, 1.12519, -5.06339, 1....</td>\n",
       "      <td>[1, 1, 2, 2, 2, 2, 2, 2, 2, 2, 2, 2, 2, 2, 2, ...</td>\n",
       "      <td>1222</td>\n",
       "      <td>[36, 18, 34, 20, 26, 24, 18, 30, 28, 22, 34, 3...</td>\n",
       "      <td>[0.35155967, 0.39493895, 0.49695483, 1.9753718...</td>\n",
       "      <td>[3, 0, 5, 7, 4, 4, 7, 4, 4, 4, 4, 7, 7, 7, 7, ...</td>\n",
       "      <td>-999.0</td>\n",
       "      <td>-999.0</td>\n",
       "      <td>1</td>\n",
       "    </tr>\n",
       "    <tr>\n",
       "      <th>1</th>\n",
       "      <td>[9.989902e-06, 2.9233453, 0.97444177, 1e-05, -...</td>\n",
       "      <td>[-5.62599, -2.81299, 0.56259, 1e-05, -2.81299,...</td>\n",
       "      <td>[1, 1, 1, 2, 2, 2, 2, 2, 2, 2, 3, 3, 3, 3, 3, ...</td>\n",
       "      <td>1222</td>\n",
       "      <td>[8, 44, 38, 36, 56, 26, 18, 28, 32, 44, 36, 38...</td>\n",
       "      <td>[0.5169128, 1.070182, 0.35918677, 1.1010299, 1...</td>\n",
       "      <td>[1, 1, 2, 6, 7, 4, 7, 4, 7, 5, 11, 11, 11, 11,...</td>\n",
       "      <td>-999.0</td>\n",
       "      <td>-999.0</td>\n",
       "      <td>2</td>\n",
       "    </tr>\n",
       "  </tbody>\n",
       "</table>\n",
       "</div>"
      ],
      "text/plain": [
       "                                            rechit_x  \\\n",
       "0  [1.000202e-05, -1.9488935, 1.000202e-05, -0.97...   \n",
       "1  [9.989902e-06, 2.9233453, 0.97444177, 1e-05, -...   \n",
       "\n",
       "                                            rechit_y  \\\n",
       "0  [1.12519, 1.0003498e-05, 1.12519, -5.06339, 1....   \n",
       "1  [-5.62599, -2.81299, 0.56259, 1e-05, -2.81299,...   \n",
       "\n",
       "                                        rechit_layer   run  \\\n",
       "0  [1, 1, 2, 2, 2, 2, 2, 2, 2, 2, 2, 2, 2, 2, 2, ...  1222   \n",
       "1  [1, 1, 1, 2, 2, 2, 2, 2, 2, 2, 3, 3, 3, 3, 3, ...  1222   \n",
       "\n",
       "                                      rechit_channel  \\\n",
       "0  [36, 18, 34, 20, 26, 24, 18, 30, 28, 22, 34, 3...   \n",
       "1  [8, 44, 38, 36, 56, 26, 18, 28, 32, 44, 36, 38...   \n",
       "\n",
       "                                       rechit_energy  \\\n",
       "0  [0.35155967, 0.39493895, 0.49695483, 1.9753718...   \n",
       "1  [0.5169128, 1.070182, 0.35918677, 1.1010299, 1...   \n",
       "\n",
       "                                       rechit_skiroc  PI_positionY  \\\n",
       "0  [3, 0, 5, 7, 4, 4, 7, 4, 4, 4, 4, 7, 7, 7, 7, ...        -999.0   \n",
       "1  [1, 1, 2, 6, 7, 4, 7, 4, 7, 5, 11, 11, 11, 11,...        -999.0   \n",
       "\n",
       "   PI_positionX  event  \n",
       "0        -999.0      1  \n",
       "1        -999.0      2  "
      ]
     },
     "execution_count": 4,
     "metadata": {},
     "output_type": "execute_result"
    }
   ],
   "source": [
    "df[:2]"
   ]
  },
  {
   "cell_type": "code",
   "execution_count": null,
   "metadata": {},
   "outputs": [],
   "source": []
  },
  {
   "cell_type": "code",
   "execution_count": null,
   "metadata": {},
   "outputs": [],
   "source": []
  },
  {
   "cell_type": "code",
   "execution_count": null,
   "metadata": {},
   "outputs": [],
   "source": []
  },
  {
   "cell_type": "code",
   "execution_count": 30,
   "metadata": {},
   "outputs": [],
   "source": [
    "fname = \"calo_setup/ntuple_1222.root\"\n",
    "\n",
    "df_flat = read_root(fname, \"rechitntupler/hits\", columns = ['rechit_*','PI*'], flatten=hits_branches)"
   ]
  },
  {
   "cell_type": "code",
   "execution_count": 31,
   "metadata": {},
   "outputs": [
    {
     "data": {
      "text/html": [
       "<div>\n",
       "<style scoped>\n",
       "    .dataframe tbody tr th:only-of-type {\n",
       "        vertical-align: middle;\n",
       "    }\n",
       "\n",
       "    .dataframe tbody tr th {\n",
       "        vertical-align: top;\n",
       "    }\n",
       "\n",
       "    .dataframe thead th {\n",
       "        text-align: right;\n",
       "    }\n",
       "</style>\n",
       "<table border=\"1\" class=\"dataframe\">\n",
       "  <thead>\n",
       "    <tr style=\"text-align: right;\">\n",
       "      <th></th>\n",
       "      <th>rechit_x</th>\n",
       "      <th>rechit_y</th>\n",
       "      <th>rechit_channel</th>\n",
       "      <th>rechit_layer</th>\n",
       "      <th>rechit_energy</th>\n",
       "      <th>rechit_skiroc</th>\n",
       "      <th>PI_positionY</th>\n",
       "      <th>PI_positionX</th>\n",
       "      <th>__array_index</th>\n",
       "    </tr>\n",
       "  </thead>\n",
       "  <tbody>\n",
       "    <tr>\n",
       "      <th>0</th>\n",
       "      <td>0.000010</td>\n",
       "      <td>1.12519</td>\n",
       "      <td>36</td>\n",
       "      <td>1</td>\n",
       "      <td>0.351560</td>\n",
       "      <td>3</td>\n",
       "      <td>-999.0</td>\n",
       "      <td>-999.0</td>\n",
       "      <td>0</td>\n",
       "    </tr>\n",
       "    <tr>\n",
       "      <th>1</th>\n",
       "      <td>-1.948894</td>\n",
       "      <td>0.00001</td>\n",
       "      <td>18</td>\n",
       "      <td>1</td>\n",
       "      <td>0.394939</td>\n",
       "      <td>0</td>\n",
       "      <td>-999.0</td>\n",
       "      <td>-999.0</td>\n",
       "      <td>1</td>\n",
       "    </tr>\n",
       "    <tr>\n",
       "      <th>2</th>\n",
       "      <td>0.000010</td>\n",
       "      <td>1.12519</td>\n",
       "      <td>34</td>\n",
       "      <td>2</td>\n",
       "      <td>0.496955</td>\n",
       "      <td>5</td>\n",
       "      <td>-999.0</td>\n",
       "      <td>-999.0</td>\n",
       "      <td>2</td>\n",
       "    </tr>\n",
       "    <tr>\n",
       "      <th>3</th>\n",
       "      <td>-0.974442</td>\n",
       "      <td>-5.06339</td>\n",
       "      <td>20</td>\n",
       "      <td>2</td>\n",
       "      <td>1.975372</td>\n",
       "      <td>7</td>\n",
       "      <td>-999.0</td>\n",
       "      <td>-999.0</td>\n",
       "      <td>3</td>\n",
       "    </tr>\n",
       "    <tr>\n",
       "      <th>4</th>\n",
       "      <td>-0.974442</td>\n",
       "      <td>1.68779</td>\n",
       "      <td>26</td>\n",
       "      <td>2</td>\n",
       "      <td>11.167682</td>\n",
       "      <td>4</td>\n",
       "      <td>-999.0</td>\n",
       "      <td>-999.0</td>\n",
       "      <td>4</td>\n",
       "    </tr>\n",
       "    <tr>\n",
       "      <th>5</th>\n",
       "      <td>-0.974442</td>\n",
       "      <td>0.56259</td>\n",
       "      <td>24</td>\n",
       "      <td>2</td>\n",
       "      <td>3.745964</td>\n",
       "      <td>4</td>\n",
       "      <td>-999.0</td>\n",
       "      <td>-999.0</td>\n",
       "      <td>5</td>\n",
       "    </tr>\n",
       "    <tr>\n",
       "      <th>6</th>\n",
       "      <td>-1.948894</td>\n",
       "      <td>-5.62599</td>\n",
       "      <td>18</td>\n",
       "      <td>2</td>\n",
       "      <td>1.122462</td>\n",
       "      <td>7</td>\n",
       "      <td>-999.0</td>\n",
       "      <td>-999.0</td>\n",
       "      <td>6</td>\n",
       "    </tr>\n",
       "    <tr>\n",
       "      <th>7</th>\n",
       "      <td>-1.948894</td>\n",
       "      <td>3.37559</td>\n",
       "      <td>30</td>\n",
       "      <td>2</td>\n",
       "      <td>2.274768</td>\n",
       "      <td>4</td>\n",
       "      <td>-999.0</td>\n",
       "      <td>-999.0</td>\n",
       "      <td>7</td>\n",
       "    </tr>\n",
       "    <tr>\n",
       "      <th>8</th>\n",
       "      <td>-1.948894</td>\n",
       "      <td>2.25039</td>\n",
       "      <td>28</td>\n",
       "      <td>2</td>\n",
       "      <td>4.835638</td>\n",
       "      <td>4</td>\n",
       "      <td>-999.0</td>\n",
       "      <td>-999.0</td>\n",
       "      <td>8</td>\n",
       "    </tr>\n",
       "    <tr>\n",
       "      <th>9</th>\n",
       "      <td>-1.948894</td>\n",
       "      <td>1.12519</td>\n",
       "      <td>22</td>\n",
       "      <td>2</td>\n",
       "      <td>1.855637</td>\n",
       "      <td>4</td>\n",
       "      <td>-999.0</td>\n",
       "      <td>-999.0</td>\n",
       "      <td>9</td>\n",
       "    </tr>\n",
       "  </tbody>\n",
       "</table>\n",
       "</div>"
      ],
      "text/plain": [
       "   rechit_x  rechit_y  rechit_channel  rechit_layer  rechit_energy  \\\n",
       "0  0.000010   1.12519              36             1       0.351560   \n",
       "1 -1.948894   0.00001              18             1       0.394939   \n",
       "2  0.000010   1.12519              34             2       0.496955   \n",
       "3 -0.974442  -5.06339              20             2       1.975372   \n",
       "4 -0.974442   1.68779              26             2      11.167682   \n",
       "5 -0.974442   0.56259              24             2       3.745964   \n",
       "6 -1.948894  -5.62599              18             2       1.122462   \n",
       "7 -1.948894   3.37559              30             2       2.274768   \n",
       "8 -1.948894   2.25039              28             2       4.835638   \n",
       "9 -1.948894   1.12519              22             2       1.855637   \n",
       "\n",
       "   rechit_skiroc  PI_positionY  PI_positionX  __array_index  \n",
       "0              3        -999.0        -999.0              0  \n",
       "1              0        -999.0        -999.0              1  \n",
       "2              5        -999.0        -999.0              2  \n",
       "3              7        -999.0        -999.0              3  \n",
       "4              4        -999.0        -999.0              4  \n",
       "5              4        -999.0        -999.0              5  \n",
       "6              7        -999.0        -999.0              6  \n",
       "7              4        -999.0        -999.0              7  \n",
       "8              4        -999.0        -999.0              8  \n",
       "9              4        -999.0        -999.0              9  "
      ]
     },
     "execution_count": 31,
     "metadata": {},
     "output_type": "execute_result"
    }
   ],
   "source": [
    "df_flat[:10]"
   ]
  },
  {
   "cell_type": "code",
   "execution_count": 32,
   "metadata": {},
   "outputs": [],
   "source": [
    "selection = df_flat.rechit_layer == 1\n",
    "selection &= df_flat.rechit_energy > 0.2"
   ]
  },
  {
   "cell_type": "code",
   "execution_count": 33,
   "metadata": {},
   "outputs": [],
   "source": [
    "df_flat = df_flat[selection]"
   ]
  },
  {
   "cell_type": "code",
   "execution_count": null,
   "metadata": {},
   "outputs": [],
   "source": []
  },
  {
   "cell_type": "code",
   "execution_count": 34,
   "metadata": {},
   "outputs": [
    {
     "data": {
      "text/html": [
       "<div>\n",
       "<style scoped>\n",
       "    .dataframe tbody tr th:only-of-type {\n",
       "        vertical-align: middle;\n",
       "    }\n",
       "\n",
       "    .dataframe tbody tr th {\n",
       "        vertical-align: top;\n",
       "    }\n",
       "\n",
       "    .dataframe thead th {\n",
       "        text-align: right;\n",
       "    }\n",
       "</style>\n",
       "<table border=\"1\" class=\"dataframe\">\n",
       "  <thead>\n",
       "    <tr style=\"text-align: right;\">\n",
       "      <th></th>\n",
       "      <th>rechit_x</th>\n",
       "      <th>rechit_y</th>\n",
       "      <th>rechit_channel</th>\n",
       "      <th>rechit_layer</th>\n",
       "      <th>rechit_energy</th>\n",
       "      <th>rechit_skiroc</th>\n",
       "      <th>PI_positionY</th>\n",
       "      <th>PI_positionX</th>\n",
       "      <th>__array_index</th>\n",
       "    </tr>\n",
       "  </thead>\n",
       "  <tbody>\n",
       "    <tr>\n",
       "      <th>0</th>\n",
       "      <td>0.000010</td>\n",
       "      <td>1.12519</td>\n",
       "      <td>36</td>\n",
       "      <td>1</td>\n",
       "      <td>0.351560</td>\n",
       "      <td>3</td>\n",
       "      <td>-999.0</td>\n",
       "      <td>-999.0</td>\n",
       "      <td>0</td>\n",
       "    </tr>\n",
       "    <tr>\n",
       "      <th>1</th>\n",
       "      <td>-1.948894</td>\n",
       "      <td>0.00001</td>\n",
       "      <td>18</td>\n",
       "      <td>1</td>\n",
       "      <td>0.394939</td>\n",
       "      <td>0</td>\n",
       "      <td>-999.0</td>\n",
       "      <td>-999.0</td>\n",
       "      <td>1</td>\n",
       "    </tr>\n",
       "    <tr>\n",
       "      <th>29</th>\n",
       "      <td>0.000010</td>\n",
       "      <td>-5.62599</td>\n",
       "      <td>8</td>\n",
       "      <td>1</td>\n",
       "      <td>0.516913</td>\n",
       "      <td>1</td>\n",
       "      <td>-999.0</td>\n",
       "      <td>-999.0</td>\n",
       "      <td>0</td>\n",
       "    </tr>\n",
       "    <tr>\n",
       "      <th>30</th>\n",
       "      <td>2.923345</td>\n",
       "      <td>-2.81299</td>\n",
       "      <td>44</td>\n",
       "      <td>1</td>\n",
       "      <td>1.070182</td>\n",
       "      <td>1</td>\n",
       "      <td>-999.0</td>\n",
       "      <td>-999.0</td>\n",
       "      <td>1</td>\n",
       "    </tr>\n",
       "    <tr>\n",
       "      <th>31</th>\n",
       "      <td>0.974442</td>\n",
       "      <td>0.56259</td>\n",
       "      <td>38</td>\n",
       "      <td>1</td>\n",
       "      <td>0.359187</td>\n",
       "      <td>2</td>\n",
       "      <td>-999.0</td>\n",
       "      <td>-999.0</td>\n",
       "      <td>2</td>\n",
       "    </tr>\n",
       "    <tr>\n",
       "      <th>50</th>\n",
       "      <td>-1.948894</td>\n",
       "      <td>5.62599</td>\n",
       "      <td>18</td>\n",
       "      <td>1</td>\n",
       "      <td>0.364511</td>\n",
       "      <td>3</td>\n",
       "      <td>-999.0</td>\n",
       "      <td>-999.0</td>\n",
       "      <td>0</td>\n",
       "    </tr>\n",
       "    <tr>\n",
       "      <th>51</th>\n",
       "      <td>-3.897797</td>\n",
       "      <td>5.62599</td>\n",
       "      <td>16</td>\n",
       "      <td>1</td>\n",
       "      <td>0.415584</td>\n",
       "      <td>3</td>\n",
       "      <td>-999.0</td>\n",
       "      <td>-999.0</td>\n",
       "      <td>1</td>\n",
       "    </tr>\n",
       "    <tr>\n",
       "      <th>78</th>\n",
       "      <td>0.974442</td>\n",
       "      <td>-1.68779</td>\n",
       "      <td>38</td>\n",
       "      <td>1</td>\n",
       "      <td>0.468237</td>\n",
       "      <td>1</td>\n",
       "      <td>-999.0</td>\n",
       "      <td>-999.0</td>\n",
       "      <td>0</td>\n",
       "    </tr>\n",
       "    <tr>\n",
       "      <th>79</th>\n",
       "      <td>-2.923345</td>\n",
       "      <td>-6.18859</td>\n",
       "      <td>20</td>\n",
       "      <td>1</td>\n",
       "      <td>0.557742</td>\n",
       "      <td>1</td>\n",
       "      <td>-999.0</td>\n",
       "      <td>-999.0</td>\n",
       "      <td>1</td>\n",
       "    </tr>\n",
       "    <tr>\n",
       "      <th>101</th>\n",
       "      <td>-1.948894</td>\n",
       "      <td>-2.25039</td>\n",
       "      <td>28</td>\n",
       "      <td>1</td>\n",
       "      <td>0.393797</td>\n",
       "      <td>0</td>\n",
       "      <td>-999.0</td>\n",
       "      <td>-999.0</td>\n",
       "      <td>0</td>\n",
       "    </tr>\n",
       "  </tbody>\n",
       "</table>\n",
       "</div>"
      ],
      "text/plain": [
       "     rechit_x  rechit_y  rechit_channel  rechit_layer  rechit_energy  \\\n",
       "0    0.000010   1.12519              36             1       0.351560   \n",
       "1   -1.948894   0.00001              18             1       0.394939   \n",
       "29   0.000010  -5.62599               8             1       0.516913   \n",
       "30   2.923345  -2.81299              44             1       1.070182   \n",
       "31   0.974442   0.56259              38             1       0.359187   \n",
       "50  -1.948894   5.62599              18             1       0.364511   \n",
       "51  -3.897797   5.62599              16             1       0.415584   \n",
       "78   0.974442  -1.68779              38             1       0.468237   \n",
       "79  -2.923345  -6.18859              20             1       0.557742   \n",
       "101 -1.948894  -2.25039              28             1       0.393797   \n",
       "\n",
       "     rechit_skiroc  PI_positionY  PI_positionX  __array_index  \n",
       "0                3        -999.0        -999.0              0  \n",
       "1                0        -999.0        -999.0              1  \n",
       "29               1        -999.0        -999.0              0  \n",
       "30               1        -999.0        -999.0              1  \n",
       "31               2        -999.0        -999.0              2  \n",
       "50               3        -999.0        -999.0              0  \n",
       "51               3        -999.0        -999.0              1  \n",
       "78               1        -999.0        -999.0              0  \n",
       "79               1        -999.0        -999.0              1  \n",
       "101              0        -999.0        -999.0              0  "
      ]
     },
     "execution_count": 34,
     "metadata": {},
     "output_type": "execute_result"
    }
   ],
   "source": [
    "df_flat[:10]"
   ]
  },
  {
   "cell_type": "code",
   "execution_count": null,
   "metadata": {},
   "outputs": [],
   "source": []
  },
  {
   "cell_type": "code",
   "execution_count": 36,
   "metadata": {},
   "outputs": [
    {
     "data": {
      "image/png": "[encoded data removed]",
      "text/plain": [
       "<matplotlib.figure.Figure at 0x1235fc290>"
      ]
     },
     "metadata": {},
     "output_type": "display_data"
    }
   ],
   "source": [
    "n, _ , _ = plt.hist(df_flat.rechit_energy, np.linspace(0,2,50))"
   ]
  },
  {
   "cell_type": "code",
   "execution_count": null,
   "metadata": {},
   "outputs": [],
   "source": []
  },
  {
   "cell_type": "code",
   "execution_count": null,
   "metadata": {},
   "outputs": [],
   "source": []
  },
  {
   "cell_type": "code",
   "execution_count": 5,
   "metadata": {},
   "outputs": [],
   "source": [
    "hits_branches = ['rechit_skiroc',\n",
    "        'rechit_channel',\n",
    "        'rechit_x',\n",
    "        'rechit_y',\n",
    "        'rechit_energy',\n",
    "        ]\n",
    "\n",
    "info_branches = ['run', 'event','PI_positionX', 'PI_positionY',]\n",
    "\n",
    "tracks_branches = ['ntracks',\n",
    "         'impactX_HGCal_layer_1',\n",
    "         'impactY_HGCal_layer_1'\n",
    "        ]"
   ]
  },
  {
   "cell_type": "code",
   "execution_count": 6,
   "metadata": {},
   "outputs": [],
   "source": [
    "# Read and cache data\n",
    "cache_info = {}\n",
    "cache_hits = {}\n",
    "cache_tracks = {}"
   ]
  },
  {
   "cell_type": "code",
   "execution_count": 7,
   "metadata": {},
   "outputs": [],
   "source": [
    "df_info = hits.pandas.df(info_branches, cache = cache_info,executor=executor)\n",
    "df_hits = hits.pandas.df(hits_branches, cache = cache_hits,executor=executor)\n",
    "df_tracks = tracks.pandas.df(tracks_branches, cache = cache_tracks,executor=executor)"
   ]
  },
  {
   "cell_type": "code",
   "execution_count": 8,
   "metadata": {},
   "outputs": [
    {
     "data": {
      "text/html": [
       "<div>\n",
       "<style scoped>\n",
       "    .dataframe tbody tr th:only-of-type {\n",
       "        vertical-align: middle;\n",
       "    }\n",
       "\n",
       "    .dataframe tbody tr th {\n",
       "        vertical-align: top;\n",
       "    }\n",
       "\n",
       "    .dataframe thead th {\n",
       "        text-align: right;\n",
       "    }\n",
       "</style>\n",
       "<table border=\"1\" class=\"dataframe\">\n",
       "  <thead>\n",
       "    <tr style=\"text-align: right;\">\n",
       "      <th></th>\n",
       "      <th>rechit_skiroc</th>\n",
       "      <th>rechit_channel</th>\n",
       "      <th>rechit_x</th>\n",
       "      <th>rechit_y</th>\n",
       "      <th>rechit_energy</th>\n",
       "    </tr>\n",
       "  </thead>\n",
       "  <tbody>\n",
       "    <tr>\n",
       "      <th>0</th>\n",
       "      <td>[3, 0, 5, 7, 4, 4, 7, 4, 4, 4, 4, 7, 7, 7, 7, ...</td>\n",
       "      <td>[36, 18, 34, 20, 26, 24, 18, 30, 28, 22, 34, 3...</td>\n",
       "      <td>[1.000202e-05, -1.9488935, 1.000202e-05, -0.97...</td>\n",
       "      <td>[1.12519, 1.0003498e-05, 1.12519, -5.06339, 1....</td>\n",
       "      <td>[0.35155967, 0.39493895, 0.49695483, 1.9753718...</td>\n",
       "    </tr>\n",
       "    <tr>\n",
       "      <th>1</th>\n",
       "      <td>[1, 1, 2, 6, 7, 4, 7, 4, 7, 5, 11, 11, 11, 11,...</td>\n",
       "      <td>[8, 44, 38, 36, 56, 26, 18, 28, 32, 44, 36, 38...</td>\n",
       "      <td>[9.989902e-06, 2.9233453, 0.97444177, 1e-05, -...</td>\n",
       "      <td>[-5.62599, -2.81299, 0.56259, 1e-05, -2.81299,...</td>\n",
       "      <td>[0.5169128, 1.070182, 0.35918677, 1.1010299, 1...</td>\n",
       "    </tr>\n",
       "  </tbody>\n",
       "</table>\n",
       "</div>"
      ],
      "text/plain": [
       "                                       rechit_skiroc  \\\n",
       "0  [3, 0, 5, 7, 4, 4, 7, 4, 4, 4, 4, 7, 7, 7, 7, ...   \n",
       "1  [1, 1, 2, 6, 7, 4, 7, 4, 7, 5, 11, 11, 11, 11,...   \n",
       "\n",
       "                                      rechit_channel  \\\n",
       "0  [36, 18, 34, 20, 26, 24, 18, 30, 28, 22, 34, 3...   \n",
       "1  [8, 44, 38, 36, 56, 26, 18, 28, 32, 44, 36, 38...   \n",
       "\n",
       "                                            rechit_x  \\\n",
       "0  [1.000202e-05, -1.9488935, 1.000202e-05, -0.97...   \n",
       "1  [9.989902e-06, 2.9233453, 0.97444177, 1e-05, -...   \n",
       "\n",
       "                                            rechit_y  \\\n",
       "0  [1.12519, 1.0003498e-05, 1.12519, -5.06339, 1....   \n",
       "1  [-5.62599, -2.81299, 0.56259, 1e-05, -2.81299,...   \n",
       "\n",
       "                                       rechit_energy  \n",
       "0  [0.35155967, 0.39493895, 0.49695483, 1.9753718...  \n",
       "1  [0.5169128, 1.070182, 0.35918677, 1.1010299, 1...  "
      ]
     },
     "execution_count": 8,
     "metadata": {},
     "output_type": "execute_result"
    }
   ],
   "source": [
    "df_hits[:2]"
   ]
  },
  {
   "cell_type": "code",
   "execution_count": 9,
   "metadata": {},
   "outputs": [
    {
     "data": {
      "text/html": [
       "<div>\n",
       "<style scoped>\n",
       "    .dataframe tbody tr th:only-of-type {\n",
       "        vertical-align: middle;\n",
       "    }\n",
       "\n",
       "    .dataframe tbody tr th {\n",
       "        vertical-align: top;\n",
       "    }\n",
       "\n",
       "    .dataframe thead th {\n",
       "        text-align: right;\n",
       "    }\n",
       "</style>\n",
       "<table border=\"1\" class=\"dataframe\">\n",
       "  <thead>\n",
       "    <tr style=\"text-align: right;\">\n",
       "      <th></th>\n",
       "      <th>ntracks</th>\n",
       "      <th>impactX_HGCal_layer_1</th>\n",
       "      <th>impactY_HGCal_layer_1</th>\n",
       "    </tr>\n",
       "  </thead>\n",
       "  <tbody>\n",
       "    <tr>\n",
       "      <th>0</th>\n",
       "      <td>1</td>\n",
       "      <td>[-5.3245564]</td>\n",
       "      <td>[-1.2472391]</td>\n",
       "    </tr>\n",
       "    <tr>\n",
       "      <th>1</th>\n",
       "      <td>1</td>\n",
       "      <td>[0.63384724]</td>\n",
       "      <td>[2.4550781]</td>\n",
       "    </tr>\n",
       "  </tbody>\n",
       "</table>\n",
       "</div>"
      ],
      "text/plain": [
       "   ntracks impactX_HGCal_layer_1 impactY_HGCal_layer_1\n",
       "0        1          [-5.3245564]          [-1.2472391]\n",
       "1        1          [0.63384724]           [2.4550781]"
      ]
     },
     "execution_count": 9,
     "metadata": {},
     "output_type": "execute_result"
    }
   ],
   "source": [
    "df_tracks[:2]"
   ]
  },
  {
   "cell_type": "code",
   "execution_count": 10,
   "metadata": {},
   "outputs": [
    {
     "data": {
      "text/plain": [
       "10056"
      ]
     },
     "execution_count": 10,
     "metadata": {},
     "output_type": "execute_result"
    }
   ],
   "source": [
    "len(df_info)"
   ]
  },
  {
   "cell_type": "code",
   "execution_count": 11,
   "metadata": {},
   "outputs": [
    {
     "data": {
      "text/plain": [
       "10056"
      ]
     },
     "execution_count": 11,
     "metadata": {},
     "output_type": "execute_result"
    }
   ],
   "source": [
    "len(df_hits)"
   ]
  },
  {
   "cell_type": "code",
   "execution_count": 12,
   "metadata": {},
   "outputs": [
    {
     "data": {
      "text/plain": [
       "10056"
      ]
     },
     "execution_count": 12,
     "metadata": {},
     "output_type": "execute_result"
    }
   ],
   "source": [
    "len(df_tracks)"
   ]
  },
  {
   "cell_type": "code",
   "execution_count": 13,
   "metadata": {},
   "outputs": [],
   "source": [
    "df_tracks = pd.concat([df_info, df_tracks], axis=1, join_axes=[df_info.index])"
   ]
  },
  {
   "cell_type": "code",
   "execution_count": 14,
   "metadata": {},
   "outputs": [],
   "source": [
    "df_all = pd.concat([df_hits, df_tracks], axis=1, join_axes=[df_hits.index])"
   ]
  },
  {
   "cell_type": "code",
   "execution_count": 15,
   "metadata": {},
   "outputs": [
    {
     "data": {
      "text/html": [
       "<div>\n",
       "<style scoped>\n",
       "    .dataframe tbody tr th:only-of-type {\n",
       "        vertical-align: middle;\n",
       "    }\n",
       "\n",
       "    .dataframe tbody tr th {\n",
       "        vertical-align: top;\n",
       "    }\n",
       "\n",
       "    .dataframe thead th {\n",
       "        text-align: right;\n",
       "    }\n",
       "</style>\n",
       "<table border=\"1\" class=\"dataframe\">\n",
       "  <thead>\n",
       "    <tr style=\"text-align: right;\">\n",
       "      <th></th>\n",
       "      <th>rechit_skiroc</th>\n",
       "      <th>rechit_channel</th>\n",
       "      <th>rechit_x</th>\n",
       "      <th>rechit_y</th>\n",
       "      <th>rechit_energy</th>\n",
       "      <th>run</th>\n",
       "      <th>event</th>\n",
       "      <th>PI_positionX</th>\n",
       "      <th>PI_positionY</th>\n",
       "      <th>ntracks</th>\n",
       "      <th>impactX_HGCal_layer_1</th>\n",
       "      <th>impactY_HGCal_layer_1</th>\n",
       "    </tr>\n",
       "  </thead>\n",
       "  <tbody>\n",
       "    <tr>\n",
       "      <th>0</th>\n",
       "      <td>[3, 0, 5, 7, 4, 4, 7, 4, 4, 4, 4, 7, 7, 7, 7, ...</td>\n",
       "      <td>[36, 18, 34, 20, 26, 24, 18, 30, 28, 22, 34, 3...</td>\n",
       "      <td>[1.000202e-05, -1.9488935, 1.000202e-05, -0.97...</td>\n",
       "      <td>[1.12519, 1.0003498e-05, 1.12519, -5.06339, 1....</td>\n",
       "      <td>[0.35155967, 0.39493895, 0.49695483, 1.9753718...</td>\n",
       "      <td>1222</td>\n",
       "      <td>1</td>\n",
       "      <td>-999.0</td>\n",
       "      <td>-999.0</td>\n",
       "      <td>1</td>\n",
       "      <td>[-5.3245564]</td>\n",
       "      <td>[-1.2472391]</td>\n",
       "    </tr>\n",
       "    <tr>\n",
       "      <th>1</th>\n",
       "      <td>[1, 1, 2, 6, 7, 4, 7, 4, 7, 5, 11, 11, 11, 11,...</td>\n",
       "      <td>[8, 44, 38, 36, 56, 26, 18, 28, 32, 44, 36, 38...</td>\n",
       "      <td>[9.989902e-06, 2.9233453, 0.97444177, 1e-05, -...</td>\n",
       "      <td>[-5.62599, -2.81299, 0.56259, 1e-05, -2.81299,...</td>\n",
       "      <td>[0.5169128, 1.070182, 0.35918677, 1.1010299, 1...</td>\n",
       "      <td>1222</td>\n",
       "      <td>2</td>\n",
       "      <td>-999.0</td>\n",
       "      <td>-999.0</td>\n",
       "      <td>1</td>\n",
       "      <td>[0.63384724]</td>\n",
       "      <td>[2.4550781]</td>\n",
       "    </tr>\n",
       "    <tr>\n",
       "      <th>2</th>\n",
       "      <td>[3, 3, 5, 4, 7, 4, 4, 7, 7, 7, 5, 7, 11, 11, 1...</td>\n",
       "      <td>[18, 16, 18, 26, 18, 30, 28, 32, 30, 28, 12, 2...</td>\n",
       "      <td>[-1.9488935, -3.897797, 1.0006059e-05, -0.9744...</td>\n",
       "      <td>[5.62599, 5.62599, 3.3755898, 1.6877899, -5.62...</td>\n",
       "      <td>[0.36451125, 0.41558436, 0.45885077, 5.7964635...</td>\n",
       "      <td>1222</td>\n",
       "      <td>3</td>\n",
       "      <td>-999.0</td>\n",
       "      <td>-999.0</td>\n",
       "      <td>1</td>\n",
       "      <td>[5.841098]</td>\n",
       "      <td>[2.234633]</td>\n",
       "    </tr>\n",
       "  </tbody>\n",
       "</table>\n",
       "</div>"
      ],
      "text/plain": [
       "                                       rechit_skiroc  \\\n",
       "0  [3, 0, 5, 7, 4, 4, 7, 4, 4, 4, 4, 7, 7, 7, 7, ...   \n",
       "1  [1, 1, 2, 6, 7, 4, 7, 4, 7, 5, 11, 11, 11, 11,...   \n",
       "2  [3, 3, 5, 4, 7, 4, 4, 7, 7, 7, 5, 7, 11, 11, 1...   \n",
       "\n",
       "                                      rechit_channel  \\\n",
       "0  [36, 18, 34, 20, 26, 24, 18, 30, 28, 22, 34, 3...   \n",
       "1  [8, 44, 38, 36, 56, 26, 18, 28, 32, 44, 36, 38...   \n",
       "2  [18, 16, 18, 26, 18, 30, 28, 32, 30, 28, 12, 2...   \n",
       "\n",
       "                                            rechit_x  \\\n",
       "0  [1.000202e-05, -1.9488935, 1.000202e-05, -0.97...   \n",
       "1  [9.989902e-06, 2.9233453, 0.97444177, 1e-05, -...   \n",
       "2  [-1.9488935, -3.897797, 1.0006059e-05, -0.9744...   \n",
       "\n",
       "                                            rechit_y  \\\n",
       "0  [1.12519, 1.0003498e-05, 1.12519, -5.06339, 1....   \n",
       "1  [-5.62599, -2.81299, 0.56259, 1e-05, -2.81299,...   \n",
       "2  [5.62599, 5.62599, 3.3755898, 1.6877899, -5.62...   \n",
       "\n",
       "                                       rechit_energy   run  event  \\\n",
       "0  [0.35155967, 0.39493895, 0.49695483, 1.9753718...  1222      1   \n",
       "1  [0.5169128, 1.070182, 0.35918677, 1.1010299, 1...  1222      2   \n",
       "2  [0.36451125, 0.41558436, 0.45885077, 5.7964635...  1222      3   \n",
       "\n",
       "   PI_positionX  PI_positionY  ntracks impactX_HGCal_layer_1  \\\n",
       "0        -999.0        -999.0        1          [-5.3245564]   \n",
       "1        -999.0        -999.0        1          [0.63384724]   \n",
       "2        -999.0        -999.0        1            [5.841098]   \n",
       "\n",
       "  impactY_HGCal_layer_1  \n",
       "0          [-1.2472391]  \n",
       "1           [2.4550781]  \n",
       "2            [2.234633]  "
      ]
     },
     "execution_count": 15,
     "metadata": {},
     "output_type": "execute_result"
    }
   ],
   "source": [
    "df_all[:3]"
   ]
  },
  {
   "cell_type": "code",
   "execution_count": 16,
   "metadata": {},
   "outputs": [],
   "source": [
    "selection = df_tracks.ntracks == 1\n",
    "#selection &= "
   ]
  },
  {
   "cell_type": "code",
   "execution_count": 17,
   "metadata": {},
   "outputs": [],
   "source": [
    "df_all = df_all[selection]"
   ]
  },
  {
   "cell_type": "code",
   "execution_count": null,
   "metadata": {},
   "outputs": [],
   "source": []
  },
  {
   "cell_type": "code",
   "execution_count": 18,
   "metadata": {},
   "outputs": [],
   "source": [
    "## convert Series to float for impact position (take first element, which for ntracks=1 is the only one)\n",
    "impact_x = df_all.apply(lambda row: row.impactX_HGCal_layer_1[0], axis=1)\n",
    "impact_y = df_all.apply(lambda row: row.impactY_HGCal_layer_1[0], axis=1)"
   ]
  },
  {
   "cell_type": "code",
   "execution_count": 21,
   "metadata": {},
   "outputs": [],
   "source": [
    "df_all.loc[impact_x.index, 'impact_x'] = impact_x\n",
    "df_all.loc[impact_y.index, 'impact_y'] = impact_y"
   ]
  },
  {
   "cell_type": "code",
   "execution_count": 22,
   "metadata": {
    "scrolled": false
   },
   "outputs": [
    {
     "data": {
      "text/html": [
       "<div>\n",
       "<style scoped>\n",
       "    .dataframe tbody tr th:only-of-type {\n",
       "        vertical-align: middle;\n",
       "    }\n",
       "\n",
       "    .dataframe tbody tr th {\n",
       "        vertical-align: top;\n",
       "    }\n",
       "\n",
       "    .dataframe thead th {\n",
       "        text-align: right;\n",
       "    }\n",
       "</style>\n",
       "<table border=\"1\" class=\"dataframe\">\n",
       "  <thead>\n",
       "    <tr style=\"text-align: right;\">\n",
       "      <th></th>\n",
       "      <th>rechit_skiroc</th>\n",
       "      <th>rechit_channel</th>\n",
       "      <th>rechit_x</th>\n",
       "      <th>rechit_y</th>\n",
       "      <th>rechit_energy</th>\n",
       "      <th>run</th>\n",
       "      <th>event</th>\n",
       "      <th>PI_positionX</th>\n",
       "      <th>PI_positionY</th>\n",
       "      <th>ntracks</th>\n",
       "      <th>impactX_HGCal_layer_1</th>\n",
       "      <th>impactY_HGCal_layer_1</th>\n",
       "      <th>impact_x</th>\n",
       "      <th>impact_y</th>\n",
       "    </tr>\n",
       "  </thead>\n",
       "  <tbody>\n",
       "    <tr>\n",
       "      <th>0</th>\n",
       "      <td>[3, 0, 5, 7, 4, 4, 7, 4, 4, 4, 4, 7, 7, 7, 7, ...</td>\n",
       "      <td>[36, 18, 34, 20, 26, 24, 18, 30, 28, 22, 34, 3...</td>\n",
       "      <td>[1.000202e-05, -1.9488935, 1.000202e-05, -0.97...</td>\n",
       "      <td>[1.12519, 1.0003498e-05, 1.12519, -5.06339, 1....</td>\n",
       "      <td>[0.35155967, 0.39493895, 0.49695483, 1.9753718...</td>\n",
       "      <td>1222</td>\n",
       "      <td>1</td>\n",
       "      <td>-999.0</td>\n",
       "      <td>-999.0</td>\n",
       "      <td>1</td>\n",
       "      <td>[-5.3245564]</td>\n",
       "      <td>[-1.2472391]</td>\n",
       "      <td>-5.324556</td>\n",
       "      <td>-1.247239</td>\n",
       "    </tr>\n",
       "    <tr>\n",
       "      <th>1</th>\n",
       "      <td>[1, 1, 2, 6, 7, 4, 7, 4, 7, 5, 11, 11, 11, 11,...</td>\n",
       "      <td>[8, 44, 38, 36, 56, 26, 18, 28, 32, 44, 36, 38...</td>\n",
       "      <td>[9.989902e-06, 2.9233453, 0.97444177, 1e-05, -...</td>\n",
       "      <td>[-5.62599, -2.81299, 0.56259, 1e-05, -2.81299,...</td>\n",
       "      <td>[0.5169128, 1.070182, 0.35918677, 1.1010299, 1...</td>\n",
       "      <td>1222</td>\n",
       "      <td>2</td>\n",
       "      <td>-999.0</td>\n",
       "      <td>-999.0</td>\n",
       "      <td>1</td>\n",
       "      <td>[0.63384724]</td>\n",
       "      <td>[2.4550781]</td>\n",
       "      <td>0.633847</td>\n",
       "      <td>2.455078</td>\n",
       "    </tr>\n",
       "  </tbody>\n",
       "</table>\n",
       "</div>"
      ],
      "text/plain": [
       "                                       rechit_skiroc  \\\n",
       "0  [3, 0, 5, 7, 4, 4, 7, 4, 4, 4, 4, 7, 7, 7, 7, ...   \n",
       "1  [1, 1, 2, 6, 7, 4, 7, 4, 7, 5, 11, 11, 11, 11,...   \n",
       "\n",
       "                                      rechit_channel  \\\n",
       "0  [36, 18, 34, 20, 26, 24, 18, 30, 28, 22, 34, 3...   \n",
       "1  [8, 44, 38, 36, 56, 26, 18, 28, 32, 44, 36, 38...   \n",
       "\n",
       "                                            rechit_x  \\\n",
       "0  [1.000202e-05, -1.9488935, 1.000202e-05, -0.97...   \n",
       "1  [9.989902e-06, 2.9233453, 0.97444177, 1e-05, -...   \n",
       "\n",
       "                                            rechit_y  \\\n",
       "0  [1.12519, 1.0003498e-05, 1.12519, -5.06339, 1....   \n",
       "1  [-5.62599, -2.81299, 0.56259, 1e-05, -2.81299,...   \n",
       "\n",
       "                                       rechit_energy   run  event  \\\n",
       "0  [0.35155967, 0.39493895, 0.49695483, 1.9753718...  1222      1   \n",
       "1  [0.5169128, 1.070182, 0.35918677, 1.1010299, 1...  1222      2   \n",
       "\n",
       "   PI_positionX  PI_positionY  ntracks impactX_HGCal_layer_1  \\\n",
       "0        -999.0        -999.0        1          [-5.3245564]   \n",
       "1        -999.0        -999.0        1          [0.63384724]   \n",
       "\n",
       "  impactY_HGCal_layer_1  impact_x  impact_y  \n",
       "0          [-1.2472391] -5.324556 -1.247239  \n",
       "1           [2.4550781]  0.633847  2.455078  "
      ]
     },
     "execution_count": 22,
     "metadata": {},
     "output_type": "execute_result"
    }
   ],
   "source": [
    "df_all[:2]"
   ]
  },
  {
   "cell_type": "code",
   "execution_count": 23,
   "metadata": {},
   "outputs": [
    {
     "data": {
      "text/plain": [
       "0        [0.35155967, 0.39493895, 0.49695483, 1.9753718...\n",
       "1        [0.5169128, 1.070182, 0.35918677, 1.1010299, 1...\n",
       "2        [0.36451125, 0.41558436, 0.45885077, 5.7964635...\n",
       "3        [0.46823746, 0.5577423, 1.3197827, 8.2040415, ...\n",
       "4        [0.39379656, 1.1645092, 0.37394753, 4.766571, ...\n",
       "5        [0.3699954, 4.102713, 7.0221953, 4.0269313, 1....\n",
       "8        [1.0961077, 0.4566724, 0.6254172, 5.612036, 4....\n",
       "13       [0.83746463, 0.29761407, 1.0459461, 1.8773766,...\n",
       "16       [0.61589295, 0.60864913, 0.5277482, 6.9842925,...\n",
       "17       [0.71043605, 0.6234359, 13.303896, 4.3860235, ...\n",
       "19       [0.90394056, 0.5200874, 1.2467189, 1.45777, 9....\n",
       "20       [0.4196573, 0.30727145, 0.44502217, 0.9230165,...\n",
       "22       [0.39109626, 0.46303073, 7.4423647, 0.44181386...\n",
       "23       [0.49660254, 0.81229925, 3.0024278, 0.40993905...\n",
       "24       [2.2034051, 0.68453526, 0.5863843, 0.76692617,...\n",
       "25       [0.9816663, 17.178785, 8.777766, 4.9849854, 6....\n",
       "27       [0.65665865, 0.50524676, 0.36050093, 0.4615398...\n",
       "29       [0.75260645, 0.5068672, 17.836021, 3.415185, 1...\n",
       "30       [4.0100746, 4.9107423, 6.9850817, 1.0049309, 2...\n",
       "31       [10.107388, 2.131112, 12.804251, 3.1715817, 4....\n",
       "36       [1.473839, 3.074624, 0.37322986, 6.9495234, 13...\n",
       "37       [1.046053, 0.46481448, 1.9596168, 1.8585366, 1...\n",
       "41       [1.4607646, 0.8688125, 0.9859372, 0.44138685, ...\n",
       "43       [0.9208885, 0.534899, 0.46818325, 14.120705, 9...\n",
       "44       [1.0920943, 0.48790264, 1.770462, 4.348447, 3....\n",
       "47       [0.4194583, 0.769469, 5.5332603, 1.0362408, 7....\n",
       "49       [0.44187072, 1.4516718, 0.4605183, 3.1426668, ...\n",
       "50       [0.7877349, 6.5177298, 3.5219994, 17.56907, 0....\n",
       "51       [0.45420352, 22.962254, 3.0251095, 1.775598, 1...\n",
       "57       [0.68057853, 1.2541579, 3.1344547, 2.9236674, ...\n",
       "                               ...                        \n",
       "10008    [1.0464071, 0.5152289, 0.5343453, 0.8351495, 1...\n",
       "10009    [0.5018135, 0.45939332, 0.6984246, 1.0433203, ...\n",
       "10010    [0.37965548, 0.74906427, 2.453718, 0.8248284, ...\n",
       "10012    [0.43550038, 0.4548762, 8.060715, 1.1686287, 1...\n",
       "10014    [3.4925814, 14.351521, 8.751387, 4.572579, 3.8...\n",
       "10016    [0.71106905, 0.59808296, 6.5490155, 5.4408236,...\n",
       "10018    [0.5336006, 0.32843387, 2.510411, 1.9053941, 2...\n",
       "10020    [0.36444098, 1.1511084, 0.44421536, 2.3067534,...\n",
       "10022    [0.28705874, 0.3636541, 0.9338677, 0.54729545,...\n",
       "10024    [0.79081964, 0.30437082, 0.37651423, 7.084202,...\n",
       "10026    [0.794625, 5.3315434, 3.9664915, 6.2134075, 7....\n",
       "10027    [0.49450564, 0.44882068, 1.6509446, 0.5509203,...\n",
       "10028    [1.2391838, 0.5748114, 0.41671088, 0.48053598,...\n",
       "10029    [1.2424134, 0.84454495, 2.421334, 7.475719, 6....\n",
       "10030    [0.0, 0.4387815, 0.4054831, 0.50953484, 0.3528...\n",
       "10032    [2.705496, 0.55051255, 0.3887957, 0.32384607, ...\n",
       "10034    [0.59899545, 2.8942928, 0.33160245, 13.822871,...\n",
       "10035    [0.67141473, 0.38958955, 2.5553546, 8.555099, ...\n",
       "10036    [1.2799562, 0.68694687, 0.7340766, 0.525387, 2...\n",
       "10038    [0.37116897, 3.1867247, 4.919659, 1.4436651, 6...\n",
       "10039    [0.8447835, 0.5095149, 0.3626656, 0.49142134, ...\n",
       "10040    [0.94279265, 5.461033, 5.7372665, 1.1483196, 3...\n",
       "10042    [0.89767736, 0.73437715, 0.49204552, 11.532962...\n",
       "10043    [0.72037363, 1.4695852, 0.5764248, 0.9170898, ...\n",
       "10044    [0.53953165, 0.62945265, 0.41434413, 17.189909...\n",
       "10046    [0.61184704, 0.448591, 2.6624172, 32.337994, 2...\n",
       "10048    [0.9794071, 0.55857474, 0.39978275, 10.013962,...\n",
       "10050    [0.9378837, 0.54240215, 25.15652, 1.8191214, 5...\n",
       "10052    [0.6251938, 1.0757416, 4.633562, 0.9331748, 0....\n",
       "10054    [0.5160218, 0.5096852, 0.46793076, 2.6424139, ...\n",
       "Name: rechit_energy, Length: 4738, dtype: object"
      ]
     },
     "execution_count": 23,
     "metadata": {},
     "output_type": "execute_result"
    }
   ],
   "source": [
    "df_all.rechit_energy"
   ]
  },
  {
   "cell_type": "code",
   "execution_count": 24,
   "metadata": {},
   "outputs": [],
   "source": [
    "df_all.rechit_x += df_all.impact_x/10.\n",
    "df_all.rechit_y += df_all.impact_y/10."
   ]
  },
  {
   "cell_type": "code",
   "execution_count": 25,
   "metadata": {},
   "outputs": [
    {
     "data": {
      "text/plain": [
       "array([-0.5324456, -2.4813492, -0.5324456, ...,  0.7809794, -4.0912595,\n",
       "        3.7043347], dtype=float32)"
      ]
     },
     "execution_count": 25,
     "metadata": {},
     "output_type": "execute_result"
    }
   ],
   "source": [
    "np.concatenate(list(df_all.rechit_x))"
   ]
  },
  {
   "cell_type": "code",
   "execution_count": 36,
   "metadata": {},
   "outputs": [
    {
     "data": {
      "text/plain": [
       "<matplotlib.collections.PathCollection at 0x10e423d50>"
      ]
     },
     "execution_count": 36,
     "metadata": {},
     "output_type": "execute_result"
    },
    {
     "data": {
      "image/png": "[encoded data removed]",
      "text/plain": [
       "<matplotlib.figure.Figure at 0x10e2bcad0>"
      ]
     },
     "metadata": {},
     "output_type": "display_data"
    }
   ],
   "source": [
    "plt.scatter(np.concatenate(list(df_all.rechit_x)),\n",
    "            np.concatenate(list(df_all.rechit_y)),\n",
    "            c = np.concatenate(list(df_all.rechit_channel)))"
   ]
  },
  {
   "cell_type": "code",
   "execution_count": 27,
   "metadata": {},
   "outputs": [
    {
     "data": {
      "image/png": "[encoded data removed]",
      "text/plain": [
       "<matplotlib.figure.Figure at 0x10c2fcc50>"
      ]
     },
     "metadata": {},
     "output_type": "display_data"
    }
   ],
   "source": [
    "xs, ys = np.concatenate(list(df_all.rechit_x)), np.concatenate(list(df_all.rechit_y))\n",
    "n, _, _, _ = plt.hist2d(xs, ys, 100)"
   ]
  },
  {
   "cell_type": "code",
   "execution_count": 28,
   "metadata": {},
   "outputs": [
    {
     "data": {
      "text/plain": [
       "<matplotlib.collections.PathCollection at 0x10d8ee990>"
      ]
     },
     "execution_count": 28,
     "metadata": {},
     "output_type": "execute_result"
    },
    {
     "data": {
      "image/png": "[encoded data removed]",
      "text/plain": [
       "<matplotlib.figure.Figure at 0x10c2bf1d0>"
      ]
     },
     "metadata": {},
     "output_type": "display_data"
    }
   ],
   "source": [
    "plt.scatter(df_all.impactY_HGCal_layer_1,df_all.impactX_HGCal_layer_1)"
   ]
  },
  {
   "cell_type": "code",
   "execution_count": null,
   "metadata": {},
   "outputs": [],
   "source": []
  },
  {
   "cell_type": "code",
   "execution_count": null,
   "metadata": {},
   "outputs": [],
   "source": []
  },
  {
   "cell_type": "code",
   "execution_count": null,
   "metadata": {},
   "outputs": [],
   "source": []
  }
 ],
 "metadata": {
  "kernelspec": {
   "display_name": "Python 2",
   "language": "python",
   "name": "python2"
  },
  "language_info": {
   "codemirror_mode": {
    "name": "ipython",
    "version": 2
   },
   "file_extension": ".py",
   "mimetype": "text/x-python",
   "name": "python",
   "nbconvert_exporter": "python",
   "pygments_lexer": "ipython2",
   "version": "2.7.15"
  }
 },
 "nbformat": 4,
 "nbformat_minor": 2
}
