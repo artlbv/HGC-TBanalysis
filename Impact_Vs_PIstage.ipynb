{
 "cells": [
  {
   "cell_type": "code",
   "execution_count": 1,
   "metadata": {},
   "outputs": [
    {
     "name": "stdout",
     "output_type": "stream",
     "text": [
      "Welcome to JupyROOT 6.12/06\n"
     ]
    }
   ],
   "source": [
    "import ROOT"
   ]
  },
  {
   "cell_type": "code",
   "execution_count": 2,
   "metadata": {
    "collapsed": true
   },
   "outputs": [],
   "source": [
    "tree = ROOT.TChain(\"rechitntupler/hits\")\n",
    "tree2 = ROOT.TChain(\"trackimpactntupler/impactPoints\")"
   ]
  },
  {
   "cell_type": "code",
   "execution_count": 3,
   "metadata": {},
   "outputs": [
    {
     "data": {
      "text/plain": [
       "<ROOT.TFriendElement object (\"trackimpactntupler/impactPoints\") at 0x7f7fda926770>"
      ]
     },
     "execution_count": 3,
     "metadata": {},
     "output_type": "execute_result"
    }
   ],
   "source": [
    "tree.AddFriend(tree2)"
   ]
  },
  {
   "cell_type": "code",
   "execution_count": 4,
   "metadata": {
    "collapsed": true
   },
   "outputs": [],
   "source": [
    "filedir = \"calo_scan\""
   ]
  },
  {
   "cell_type": "code",
   "execution_count": 5,
   "metadata": {},
   "outputs": [
    {
     "data": {
      "text/plain": [
       "10"
      ]
     },
     "execution_count": 5,
     "metadata": {},
     "output_type": "execute_result"
    }
   ],
   "source": [
    "tree.Add(filedir + \"/*123*\")\n",
    "tree2.Add(filedir + \"/*123*\")"
   ]
  },
  {
   "cell_type": "code",
   "execution_count": 6,
   "metadata": {},
   "outputs": [
    {
     "data": {
      "text/plain": [
       "99820L"
      ]
     },
     "execution_count": 6,
     "metadata": {},
     "output_type": "execute_result"
    }
   ],
   "source": [
    "tree.GetEntries()"
   ]
  },
  {
   "cell_type": "code",
   "execution_count": 7,
   "metadata": {
    "collapsed": true
   },
   "outputs": [],
   "source": [
    "tree.SetMarkerStyle(20)"
   ]
  },
  {
   "cell_type": "code",
   "execution_count": 8,
   "metadata": {
    "collapsed": true
   },
   "outputs": [],
   "source": [
    "canv = ROOT.TCanvas()"
   ]
  },
  {
   "cell_type": "code",
   "execution_count": null,
   "metadata": {},
   "outputs": [],
   "source": [
    "plotstr = \"PI_positionY \"\n",
    "plotstr += \":PI_positionX\"\n",
    "#plotstr += \": rechit_skiroc*64+rechit_channel\"\n",
    "plotstr += \": run\"\n",
    "\n",
    "cutstr = \"\"#\"PI_positionX > 0\"\n",
    "#cutstr += \"&& event < 100\"\n",
    "tree.Draw(plotstr,cutstr,\"pcolz\")\n",
    "#canv.Draw()"
   ]
  },
  {
   "cell_type": "code",
   "execution_count": null,
   "metadata": {
    "collapsed": true
   },
   "outputs": [],
   "source": [
    "canv.Draw()"
   ]
  },
  {
   "cell_type": "code",
   "execution_count": null,
   "metadata": {},
   "outputs": [],
   "source": [
    "plotstr = \"(PI_positionY - 140) + (impactY_HGCal_layer_1 )\"\n",
    "plotstr += \":(PI_positionX - 80)  + (impactX_HGCal_layer_1 )\"\n",
    "#plotstr += \": rechit_skiroc*64+rechit_channel\"\n",
    "plotstr += \": run\"\n",
    "\n",
    "cutstr = \"\"#\"PI_positionX > 0\"\n",
    "#cutstr += \"&& event < 100\"\n",
    "tree.Draw(plotstr,cutstr,\"pcolz\")\n",
    "canv.Draw()"
   ]
  },
  {
   "cell_type": "code",
   "execution_count": null,
   "metadata": {
    "collapsed": true
   },
   "outputs": [],
   "source": []
  },
  {
   "cell_type": "code",
   "execution_count": null,
   "metadata": {},
   "outputs": [],
   "source": [
    "plotstr = \"(PI_positionY - 140) + (impactY_HGCal_layer_1 )\"\n",
    "plotstr += \": rechit_y*10\"\n",
    "plotstr += \": run\"\n",
    "\n",
    "\n",
    "cutstr = \"rechit_layer == 1 && !(rechit_iv == -3 && rechit_iu == 4)\"\n",
    "cutstr += \"&& rechit_energyHigh > 40 && ntracks == 1 && abs(rechit_energyHigh/rechit_energyLow - 10) < 5\"\n",
    "cutstr += \"&& rechit_y > 1\"\n",
    "\n",
    "cutstr = \"PI_positionY > 0\"\n",
    "tree.Draw(plotstr,cutstr,\"pcolz\", 30000)\n",
    "canv.Draw()"
   ]
  },
  {
   "cell_type": "code",
   "execution_count": null,
   "metadata": {
    "collapsed": true
   },
   "outputs": [],
   "source": []
  },
  {
   "cell_type": "code",
   "execution_count": null,
   "metadata": {},
   "outputs": [],
   "source": [
    "plotstr = \"rechit_y*10 + (impactY_HGCal_layer_1 )\"\n",
    "plotstr += \":rechit_x*10+ (impactX_HGCal_layer_1)\"\n",
    "#plotstr += \": rechit_skiroc*64+rechit_channel\"\n",
    "plotstr += \": run\"\n",
    "\n",
    "cutstr = \"rechit_layer == 1 && !(rechit_iv == -3 && rechit_iu == 4)\"\n",
    "cutstr += \"&& rechit_energyHigh > 40 && ntracks == 1 && abs(rechit_energyHigh/rechit_energyLow - 10) < 5\"\n",
    "cutstr += \"&& rechit_y > 1\"\n",
    "tree.Draw(plotstr,cutstr,\"pcolz\")\n",
    "canv.Draw()"
   ]
  },
  {
   "cell_type": "code",
   "execution_count": null,
   "metadata": {
    "collapsed": true
   },
   "outputs": [],
   "source": [
    "plotstr = \"rechit_y*10 \"\n",
    "plotstr += \":rechit_x*10\"\n",
    "#plotstr += \": rechit_skiroc*64+rechit_channel\"\n",
    "plotstr += \": run\"\n",
    "\n",
    "cutstr = \"rechit_layer == 1 && ntracks == 1\"\n",
    "cutstr += \"&& !(rechit_iv == -3 && rechit_iu == 4) && abs(rechit_energyHigh/rechit_energyLow - 10) < 5\"\n",
    "cutstr += \"&& rechit_energyHigh > 40\"\n",
    "#cutstr += \"&& event < 100\"\n",
    "tree.Draw(plotstr,cutstr,\"pcolz\",100000)\n",
    "canv.Draw()"
   ]
  },
  {
   "cell_type": "code",
   "execution_count": null,
   "metadata": {
    "collapsed": true
   },
   "outputs": [],
   "source": []
  },
  {
   "cell_type": "code",
   "execution_count": null,
   "metadata": {
    "collapsed": true
   },
   "outputs": [],
   "source": []
  }
 ],
 "metadata": {
  "kernelspec": {
   "display_name": "Python 2",
   "language": "python",
   "name": "python2"
  },
  "language_info": {
   "codemirror_mode": {
    "name": "ipython",
    "version": 2
   },
   "file_extension": ".py",
   "mimetype": "text/x-python",
   "name": "python",
   "nbconvert_exporter": "python",
   "pygments_lexer": "ipython2",
   "version": "2.7.15"
  }
 },
 "nbformat": 4,
 "nbformat_minor": 2
}
