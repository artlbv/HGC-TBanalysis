{
 "cells": [
  {
   "cell_type": "code",
   "execution_count": 176,
   "metadata": {},
   "outputs": [],
   "source": [
    "import uproot\n",
    "import pandas as pd\n",
    "import numpy as np\n",
    "\n",
    "import matplotlib.pyplot as plt\n",
    "from mpl_toolkits.mplot3d import Axes3D\n",
    "\n",
    "import concurrent.futures, multiprocessing\n",
    "ncpu = multiprocessing.cpu_count()\n",
    "executor = concurrent.futures.ThreadPoolExecutor(ncpu*4)\n",
    "\n",
    "%matplotlib inline"
   ]
  },
  {
   "cell_type": "code",
   "execution_count": 177,
   "metadata": {},
   "outputs": [],
   "source": [
    "fname = \"calo_setup/ntuple_1222.root\"\n",
    "\n",
    "hits = uproot.open(fname)[\"rechitntupler/hits\"]\n",
    "tracks = uproot.open(fname)[\"trackimpactntupler/impactPoints\"]"
   ]
  },
  {
   "cell_type": "code",
   "execution_count": 178,
   "metadata": {},
   "outputs": [
    {
     "data": {
      "text/plain": [
       "['event',\n",
       " 'run',\n",
       " 'pdgID',\n",
       " 'beamEnergy',\n",
       " 'PI_positionX',\n",
       " 'PI_positionY',\n",
       " 'rechit_detid',\n",
       " 'rechit_module',\n",
       " 'rechit_layer',\n",
       " 'rechit_skiroc',\n",
       " 'rechit_channel',\n",
       " 'rechit_x',\n",
       " 'rechit_y',\n",
       " 'rechit_z',\n",
       " 'rechit_iu',\n",
       " 'rechit_iv',\n",
       " 'rechit_energy',\n",
       " 'rechit_energyHigh',\n",
       " 'rechit_energyLow',\n",
       " 'rechit_energyTot',\n",
       " 'rechit_time']"
      ]
     },
     "execution_count": 178,
     "metadata": {},
     "output_type": "execute_result"
    }
   ],
   "source": [
    "hits.keys()"
   ]
  },
  {
   "cell_type": "code",
   "execution_count": 179,
   "metadata": {},
   "outputs": [
    {
     "data": {
      "text/plain": [
       "['event',\n",
       " 'run',\n",
       " 'ntracks',\n",
       " 'impactX_HGCal_layer_1',\n",
       " 'impactY_HGCal_layer_1',\n",
       " 'impactX_associatedChi2_HGCal_layer_1',\n",
       " 'impactY_associatedChi2_HGCal_layer_1',\n",
       " 'impactX_HGCal_layer_2',\n",
       " 'impactY_HGCal_layer_2',\n",
       " 'impactX_associatedChi2_HGCal_layer_2',\n",
       " 'impactY_associatedChi2_HGCal_layer_2',\n",
       " 'impactX_HGCal_layer_3',\n",
       " 'impactY_HGCal_layer_3',\n",
       " 'impactX_associatedChi2_HGCal_layer_3',\n",
       " 'impactY_associatedChi2_HGCal_layer_3',\n",
       " 'kinkAngleX_DUT1',\n",
       " 'kinkAngleY_DUT1']"
      ]
     },
     "execution_count": 179,
     "metadata": {},
     "output_type": "execute_result"
    }
   ],
   "source": [
    "tracks.keys()"
   ]
  },
  {
   "cell_type": "code",
   "execution_count": 180,
   "metadata": {},
   "outputs": [],
   "source": [
    "hits_branches = ['rechit_skiroc',\n",
    "        'rechit_channel',\n",
    "        'rechit_x',\n",
    "        'rechit_y',\n",
    "        'rechit_energy',\n",
    "        'rechit_layer'\n",
    "        ]\n",
    "\n",
    "info_branches = ['run', 'event','PI_positionX', 'PI_positionY',]\n",
    "\n",
    "tracks_branches = ['ntracks',\n",
    "         'impactX_HGCal_layer_1',\n",
    "         'impactY_HGCal_layer_1'\n",
    "        ]"
   ]
  },
  {
   "cell_type": "code",
   "execution_count": 181,
   "metadata": {},
   "outputs": [],
   "source": [
    "# Read and cache data\n",
    "cache_info = {}\n",
    "cache_hits = {}\n",
    "cache_tracks = {}"
   ]
  },
  {
   "cell_type": "code",
   "execution_count": 182,
   "metadata": {},
   "outputs": [],
   "source": [
    "df_info = hits.pandas.df(info_branches, cache = cache_info,executor=executor)\n",
    "df_hits = hits.pandas.df(hits_branches, cache = cache_hits,executor=executor)\n",
    "df_tracks = tracks.pandas.df(tracks_branches, cache = cache_tracks,executor=executor)"
   ]
  },
  {
   "cell_type": "code",
   "execution_count": 183,
   "metadata": {},
   "outputs": [
    {
     "data": {
      "text/html": [
       "<div>\n",
       "<style scoped>\n",
       "    .dataframe tbody tr th:only-of-type {\n",
       "        vertical-align: middle;\n",
       "    }\n",
       "\n",
       "    .dataframe tbody tr th {\n",
       "        vertical-align: top;\n",
       "    }\n",
       "\n",
       "    .dataframe thead th {\n",
       "        text-align: right;\n",
       "    }\n",
       "</style>\n",
       "<table border=\"1\" class=\"dataframe\">\n",
       "  <thead>\n",
       "    <tr style=\"text-align: right;\">\n",
       "      <th></th>\n",
       "      <th>rechit_skiroc</th>\n",
       "      <th>rechit_channel</th>\n",
       "      <th>rechit_x</th>\n",
       "      <th>rechit_y</th>\n",
       "      <th>rechit_energy</th>\n",
       "      <th>rechit_layer</th>\n",
       "    </tr>\n",
       "  </thead>\n",
       "  <tbody>\n",
       "    <tr>\n",
       "      <th>0</th>\n",
       "      <td>[3, 0, 5, 7, 4, 4, 7, 4, 4, 4, 4, 7, 7, 7, 7, ...</td>\n",
       "      <td>[36, 18, 34, 20, 26, 24, 18, 30, 28, 22, 34, 3...</td>\n",
       "      <td>[1.000202e-05, -1.9488935, 1.000202e-05, -0.97...</td>\n",
       "      <td>[1.12519, 1.0003498e-05, 1.12519, -5.06339, 1....</td>\n",
       "      <td>[0.35155967, 0.39493895, 0.49695483, 1.9753718...</td>\n",
       "      <td>[1, 1, 2, 2, 2, 2, 2, 2, 2, 2, 2, 2, 2, 2, 2, ...</td>\n",
       "    </tr>\n",
       "    <tr>\n",
       "      <th>1</th>\n",
       "      <td>[1, 1, 2, 6, 7, 4, 7, 4, 7, 5, 11, 11, 11, 11,...</td>\n",
       "      <td>[8, 44, 38, 36, 56, 26, 18, 28, 32, 44, 36, 38...</td>\n",
       "      <td>[9.989902e-06, 2.9233453, 0.97444177, 1e-05, -...</td>\n",
       "      <td>[-5.62599, -2.81299, 0.56259, 1e-05, -2.81299,...</td>\n",
       "      <td>[0.5169128, 1.070182, 0.35918677, 1.1010299, 1...</td>\n",
       "      <td>[1, 1, 1, 2, 2, 2, 2, 2, 2, 2, 3, 3, 3, 3, 3, ...</td>\n",
       "    </tr>\n",
       "  </tbody>\n",
       "</table>\n",
       "</div>"
      ],
      "text/plain": [
       "                                       rechit_skiroc  \\\n",
       "0  [3, 0, 5, 7, 4, 4, 7, 4, 4, 4, 4, 7, 7, 7, 7, ...   \n",
       "1  [1, 1, 2, 6, 7, 4, 7, 4, 7, 5, 11, 11, 11, 11,...   \n",
       "\n",
       "                                      rechit_channel  \\\n",
       "0  [36, 18, 34, 20, 26, 24, 18, 30, 28, 22, 34, 3...   \n",
       "1  [8, 44, 38, 36, 56, 26, 18, 28, 32, 44, 36, 38...   \n",
       "\n",
       "                                            rechit_x  \\\n",
       "0  [1.000202e-05, -1.9488935, 1.000202e-05, -0.97...   \n",
       "1  [9.989902e-06, 2.9233453, 0.97444177, 1e-05, -...   \n",
       "\n",
       "                                            rechit_y  \\\n",
       "0  [1.12519, 1.0003498e-05, 1.12519, -5.06339, 1....   \n",
       "1  [-5.62599, -2.81299, 0.56259, 1e-05, -2.81299,...   \n",
       "\n",
       "                                       rechit_energy  \\\n",
       "0  [0.35155967, 0.39493895, 0.49695483, 1.9753718...   \n",
       "1  [0.5169128, 1.070182, 0.35918677, 1.1010299, 1...   \n",
       "\n",
       "                                        rechit_layer  \n",
       "0  [1, 1, 2, 2, 2, 2, 2, 2, 2, 2, 2, 2, 2, 2, 2, ...  \n",
       "1  [1, 1, 1, 2, 2, 2, 2, 2, 2, 2, 3, 3, 3, 3, 3, ...  "
      ]
     },
     "execution_count": 183,
     "metadata": {},
     "output_type": "execute_result"
    }
   ],
   "source": [
    "df_hits[:2]"
   ]
  },
  {
   "cell_type": "code",
   "execution_count": 184,
   "metadata": {},
   "outputs": [],
   "source": [
    "def rh_filter(rh_row, layer = 1):\n",
    "    select = (rh_row.rechit_layer == layer)\n",
    "    select &= rh_row.rechit_energy > 0.3\n",
    "    return len(rh_row.rechit_x[select])"
   ]
  },
  {
   "cell_type": "code",
   "execution_count": 185,
   "metadata": {},
   "outputs": [],
   "source": [
    "df_hits['nhits'] = df_hits.apply(rh_filter, axis=1)"
   ]
  },
  {
   "cell_type": "code",
   "execution_count": 186,
   "metadata": {},
   "outputs": [
    {
     "data": {
      "text/plain": [
       "(array([ 271., 3380., 3153., 1703.,  701.,  459.]),\n",
       " array([0, 1, 2, 3, 4, 5, 6]),\n",
       " <a list of 6 Patch objects>)"
      ]
     },
     "execution_count": 186,
     "metadata": {},
     "output_type": "execute_result"
    },
    {
     "data": {
      "image/png": "[encoded data removed]",
      "text/plain": [
       "<matplotlib.figure.Figure at 0x10c105290>"
      ]
     },
     "metadata": {},
     "output_type": "display_data"
    }
   ],
   "source": [
    "plt.hist(df_hits.nhits, bins = range(7))"
   ]
  },
  {
   "cell_type": "code",
   "execution_count": 187,
   "metadata": {},
   "outputs": [],
   "source": [
    "def rh_filter_pos(rh_row, layer = 1):\n",
    "    select = (rh_row.rechit_layer == layer)\n",
    "    select &= rh_row.rechit_energy > 0.4\n",
    "    return select[0]"
   ]
  },
  {
   "cell_type": "code",
   "execution_count": 188,
   "metadata": {},
   "outputs": [
    {
     "data": {
      "text/plain": [
       "0    False\n",
       "1     True\n",
       "2    False\n",
       "3     True\n",
       "4    False\n",
       "5    False\n",
       "6     True\n",
       "7     True\n",
       "8     True\n",
       "9    False\n",
       "dtype: bool"
      ]
     },
     "execution_count": 188,
     "metadata": {},
     "output_type": "execute_result"
    }
   ],
   "source": [
    "df_hits.apply(rh_filter_pos, axis=1)[:10]"
   ]
  },
  {
   "cell_type": "code",
   "execution_count": null,
   "metadata": {},
   "outputs": [],
   "source": []
  },
  {
   "cell_type": "code",
   "execution_count": 189,
   "metadata": {},
   "outputs": [
    {
     "data": {
      "text/html": [
       "<div>\n",
       "<style scoped>\n",
       "    .dataframe tbody tr th:only-of-type {\n",
       "        vertical-align: middle;\n",
       "    }\n",
       "\n",
       "    .dataframe tbody tr th {\n",
       "        vertical-align: top;\n",
       "    }\n",
       "\n",
       "    .dataframe thead th {\n",
       "        text-align: right;\n",
       "    }\n",
       "</style>\n",
       "<table border=\"1\" class=\"dataframe\">\n",
       "  <thead>\n",
       "    <tr style=\"text-align: right;\">\n",
       "      <th></th>\n",
       "      <th>rechit_skiroc</th>\n",
       "      <th>rechit_channel</th>\n",
       "      <th>rechit_x</th>\n",
       "      <th>rechit_y</th>\n",
       "      <th>rechit_energy</th>\n",
       "      <th>rechit_layer</th>\n",
       "      <th>nhits</th>\n",
       "    </tr>\n",
       "  </thead>\n",
       "  <tbody>\n",
       "    <tr>\n",
       "      <th>0</th>\n",
       "      <td>[3, 0, 5, 7, 4, 4, 7, 4, 4, 4, 4, 7, 7, 7, 7, ...</td>\n",
       "      <td>[36, 18, 34, 20, 26, 24, 18, 30, 28, 22, 34, 3...</td>\n",
       "      <td>[1.000202e-05, -1.9488935, 1.000202e-05, -0.97...</td>\n",
       "      <td>[1.12519, 1.0003498e-05, 1.12519, -5.06339, 1....</td>\n",
       "      <td>[0.35155967, 0.39493895, 0.49695483, 1.9753718...</td>\n",
       "      <td>[1, 1, 2, 2, 2, 2, 2, 2, 2, 2, 2, 2, 2, 2, 2, ...</td>\n",
       "      <td>2</td>\n",
       "    </tr>\n",
       "    <tr>\n",
       "      <th>1</th>\n",
       "      <td>[1, 1, 2, 6, 7, 4, 7, 4, 7, 5, 11, 11, 11, 11,...</td>\n",
       "      <td>[8, 44, 38, 36, 56, 26, 18, 28, 32, 44, 36, 38...</td>\n",
       "      <td>[9.989902e-06, 2.9233453, 0.97444177, 1e-05, -...</td>\n",
       "      <td>[-5.62599, -2.81299, 0.56259, 1e-05, -2.81299,...</td>\n",
       "      <td>[0.5169128, 1.070182, 0.35918677, 1.1010299, 1...</td>\n",
       "      <td>[1, 1, 1, 2, 2, 2, 2, 2, 2, 2, 3, 3, 3, 3, 3, ...</td>\n",
       "      <td>3</td>\n",
       "    </tr>\n",
       "  </tbody>\n",
       "</table>\n",
       "</div>"
      ],
      "text/plain": [
       "                                       rechit_skiroc  \\\n",
       "0  [3, 0, 5, 7, 4, 4, 7, 4, 4, 4, 4, 7, 7, 7, 7, ...   \n",
       "1  [1, 1, 2, 6, 7, 4, 7, 4, 7, 5, 11, 11, 11, 11,...   \n",
       "\n",
       "                                      rechit_channel  \\\n",
       "0  [36, 18, 34, 20, 26, 24, 18, 30, 28, 22, 34, 3...   \n",
       "1  [8, 44, 38, 36, 56, 26, 18, 28, 32, 44, 36, 38...   \n",
       "\n",
       "                                            rechit_x  \\\n",
       "0  [1.000202e-05, -1.9488935, 1.000202e-05, -0.97...   \n",
       "1  [9.989902e-06, 2.9233453, 0.97444177, 1e-05, -...   \n",
       "\n",
       "                                            rechit_y  \\\n",
       "0  [1.12519, 1.0003498e-05, 1.12519, -5.06339, 1....   \n",
       "1  [-5.62599, -2.81299, 0.56259, 1e-05, -2.81299,...   \n",
       "\n",
       "                                       rechit_energy  \\\n",
       "0  [0.35155967, 0.39493895, 0.49695483, 1.9753718...   \n",
       "1  [0.5169128, 1.070182, 0.35918677, 1.1010299, 1...   \n",
       "\n",
       "                                        rechit_layer  nhits  \n",
       "0  [1, 1, 2, 2, 2, 2, 2, 2, 2, 2, 2, 2, 2, 2, 2, ...      2  \n",
       "1  [1, 1, 1, 2, 2, 2, 2, 2, 2, 2, 3, 3, 3, 3, 3, ...      3  "
      ]
     },
     "execution_count": 189,
     "metadata": {},
     "output_type": "execute_result"
    }
   ],
   "source": [
    "df_hits[:2]"
   ]
  },
  {
   "cell_type": "code",
   "execution_count": null,
   "metadata": {},
   "outputs": [],
   "source": []
  },
  {
   "cell_type": "code",
   "execution_count": 190,
   "metadata": {},
   "outputs": [
    {
     "name": "stdout",
     "output_type": "stream",
     "text": [
      "rechit_skiroc\n",
      "rechit_channel\n",
      "rechit_x\n",
      "rechit_y\n",
      "rechit_energy\n",
      "rechit_layer\n"
     ]
    }
   ],
   "source": [
    "for branch in hits_branches:\n",
    "    print branch"
   ]
  },
  {
   "cell_type": "code",
   "execution_count": 191,
   "metadata": {},
   "outputs": [],
   "source": [
    "def rh_filter(rh_row, branch, layer = 1):\n",
    "    select = (rh_row.rechit_layer == layer)\n",
    "    select &= rh_row.rechit_energy > 0.3\n",
    "    return getattr(rh_row, branch)"
   ]
  },
  {
   "cell_type": "code",
   "execution_count": null,
   "metadata": {},
   "outputs": [],
   "source": []
  },
  {
   "cell_type": "code",
   "execution_count": null,
   "metadata": {},
   "outputs": [],
   "source": []
  },
  {
   "cell_type": "code",
   "execution_count": null,
   "metadata": {},
   "outputs": [],
   "source": []
  },
  {
   "cell_type": "code",
   "execution_count": null,
   "metadata": {},
   "outputs": [],
   "source": []
  },
  {
   "cell_type": "code",
   "execution_count": 192,
   "metadata": {},
   "outputs": [
    {
     "ename": "ValueError",
     "evalue": "Shape of passed values is (10056, 29), indices imply (10056, 7)",
     "output_type": "error",
     "traceback": [
      "\u001b[0;31m---------------------------------------------------------------------------\u001b[0m",
      "\u001b[0;31mValueError\u001b[0m                                Traceback (most recent call last)",
      "\u001b[0;32m<ipython-input-192-11a26695fdf7>\u001b[0m in \u001b[0;36m<module>\u001b[0;34m()\u001b[0m\n\u001b[0;32m----> 1\u001b[0;31m \u001b[0mdf_hits\u001b[0m\u001b[0;34m.\u001b[0m\u001b[0mapply\u001b[0m\u001b[0;34m(\u001b[0m\u001b[0;32mlambda\u001b[0m \u001b[0mrow\u001b[0m\u001b[0;34m:\u001b[0m \u001b[0mrh_filter\u001b[0m\u001b[0;34m(\u001b[0m\u001b[0mrow\u001b[0m\u001b[0;34m,\u001b[0m \u001b[0mbranch\u001b[0m \u001b[0;34m=\u001b[0m \u001b[0;34m'rechit_energy'\u001b[0m\u001b[0;34m)\u001b[0m\u001b[0;34m,\u001b[0m \u001b[0maxis\u001b[0m\u001b[0;34m=\u001b[0m\u001b[0;36m1\u001b[0m\u001b[0;34m)\u001b[0m\u001b[0;34m\u001b[0m\u001b[0m\n\u001b[0m",
      "\u001b[0;32m/usr/local/lib/python2.7/site-packages/pandas/core/frame.pyc\u001b[0m in \u001b[0;36mapply\u001b[0;34m(self, func, axis, broadcast, raw, reduce, args, **kwds)\u001b[0m\n\u001b[1;32m   4875\u001b[0m                         \u001b[0mf\u001b[0m\u001b[0;34m,\u001b[0m \u001b[0maxis\u001b[0m\u001b[0;34m,\u001b[0m\u001b[0;34m\u001b[0m\u001b[0m\n\u001b[1;32m   4876\u001b[0m                         \u001b[0mreduce\u001b[0m\u001b[0;34m=\u001b[0m\u001b[0mreduce\u001b[0m\u001b[0;34m,\u001b[0m\u001b[0;34m\u001b[0m\u001b[0m\n\u001b[0;32m-> 4877\u001b[0;31m                         ignore_failures=ignore_failures)\n\u001b[0m\u001b[1;32m   4878\u001b[0m             \u001b[0;32melse\u001b[0m\u001b[0;34m:\u001b[0m\u001b[0;34m\u001b[0m\u001b[0m\n\u001b[1;32m   4879\u001b[0m                 \u001b[0;32mreturn\u001b[0m \u001b[0mself\u001b[0m\u001b[0;34m.\u001b[0m\u001b[0m_apply_broadcast\u001b[0m\u001b[0;34m(\u001b[0m\u001b[0mf\u001b[0m\u001b[0;34m,\u001b[0m \u001b[0maxis\u001b[0m\u001b[0;34m)\u001b[0m\u001b[0;34m\u001b[0m\u001b[0m\n",
      "\u001b[0;32m/usr/local/lib/python2.7/site-packages/pandas/core/frame.pyc\u001b[0m in \u001b[0;36m_apply_standard\u001b[0;34m(self, func, axis, ignore_failures, reduce)\u001b[0m\n\u001b[1;32m   4988\u001b[0m                 \u001b[0mindex\u001b[0m \u001b[0;34m=\u001b[0m \u001b[0mNone\u001b[0m\u001b[0;34m\u001b[0m\u001b[0m\n\u001b[1;32m   4989\u001b[0m \u001b[0;34m\u001b[0m\u001b[0m\n\u001b[0;32m-> 4990\u001b[0;31m             \u001b[0mresult\u001b[0m \u001b[0;34m=\u001b[0m \u001b[0mself\u001b[0m\u001b[0;34m.\u001b[0m\u001b[0m_constructor\u001b[0m\u001b[0;34m(\u001b[0m\u001b[0mdata\u001b[0m\u001b[0;34m=\u001b[0m\u001b[0mresults\u001b[0m\u001b[0;34m,\u001b[0m \u001b[0mindex\u001b[0m\u001b[0;34m=\u001b[0m\u001b[0mindex\u001b[0m\u001b[0;34m)\u001b[0m\u001b[0;34m\u001b[0m\u001b[0m\n\u001b[0m\u001b[1;32m   4991\u001b[0m             \u001b[0mresult\u001b[0m\u001b[0;34m.\u001b[0m\u001b[0mcolumns\u001b[0m \u001b[0;34m=\u001b[0m \u001b[0mres_index\u001b[0m\u001b[0;34m\u001b[0m\u001b[0m\n\u001b[1;32m   4992\u001b[0m \u001b[0;34m\u001b[0m\u001b[0m\n",
      "\u001b[0;32m/usr/local/lib/python2.7/site-packages/pandas/core/frame.pyc\u001b[0m in \u001b[0;36m__init__\u001b[0;34m(self, data, index, columns, dtype, copy)\u001b[0m\n\u001b[1;32m    328\u001b[0m                                  dtype=dtype, copy=copy)\n\u001b[1;32m    329\u001b[0m         \u001b[0;32melif\u001b[0m \u001b[0misinstance\u001b[0m\u001b[0;34m(\u001b[0m\u001b[0mdata\u001b[0m\u001b[0;34m,\u001b[0m \u001b[0mdict\u001b[0m\u001b[0;34m)\u001b[0m\u001b[0;34m:\u001b[0m\u001b[0;34m\u001b[0m\u001b[0m\n\u001b[0;32m--> 330\u001b[0;31m             \u001b[0mmgr\u001b[0m \u001b[0;34m=\u001b[0m \u001b[0mself\u001b[0m\u001b[0;34m.\u001b[0m\u001b[0m_init_dict\u001b[0m\u001b[0;34m(\u001b[0m\u001b[0mdata\u001b[0m\u001b[0;34m,\u001b[0m \u001b[0mindex\u001b[0m\u001b[0;34m,\u001b[0m \u001b[0mcolumns\u001b[0m\u001b[0;34m,\u001b[0m \u001b[0mdtype\u001b[0m\u001b[0;34m=\u001b[0m\u001b[0mdtype\u001b[0m\u001b[0;34m)\u001b[0m\u001b[0;34m\u001b[0m\u001b[0m\n\u001b[0m\u001b[1;32m    331\u001b[0m         \u001b[0;32melif\u001b[0m \u001b[0misinstance\u001b[0m\u001b[0;34m(\u001b[0m\u001b[0mdata\u001b[0m\u001b[0;34m,\u001b[0m \u001b[0mma\u001b[0m\u001b[0;34m.\u001b[0m\u001b[0mMaskedArray\u001b[0m\u001b[0;34m)\u001b[0m\u001b[0;34m:\u001b[0m\u001b[0;34m\u001b[0m\u001b[0m\n\u001b[1;32m    332\u001b[0m             \u001b[0;32mimport\u001b[0m \u001b[0mnumpy\u001b[0m\u001b[0;34m.\u001b[0m\u001b[0mma\u001b[0m\u001b[0;34m.\u001b[0m\u001b[0mmrecords\u001b[0m \u001b[0;32mas\u001b[0m \u001b[0mmrecords\u001b[0m\u001b[0;34m\u001b[0m\u001b[0m\n",
      "\u001b[0;32m/usr/local/lib/python2.7/site-packages/pandas/core/frame.pyc\u001b[0m in \u001b[0;36m_init_dict\u001b[0;34m(self, data, index, columns, dtype)\u001b[0m\n\u001b[1;32m    459\u001b[0m             \u001b[0marrays\u001b[0m \u001b[0;34m=\u001b[0m \u001b[0;34m[\u001b[0m\u001b[0mdata\u001b[0m\u001b[0;34m[\u001b[0m\u001b[0mk\u001b[0m\u001b[0;34m]\u001b[0m \u001b[0;32mfor\u001b[0m \u001b[0mk\u001b[0m \u001b[0;32min\u001b[0m \u001b[0mkeys\u001b[0m\u001b[0;34m]\u001b[0m\u001b[0;34m\u001b[0m\u001b[0m\n\u001b[1;32m    460\u001b[0m \u001b[0;34m\u001b[0m\u001b[0m\n\u001b[0;32m--> 461\u001b[0;31m         \u001b[0;32mreturn\u001b[0m \u001b[0m_arrays_to_mgr\u001b[0m\u001b[0;34m(\u001b[0m\u001b[0marrays\u001b[0m\u001b[0;34m,\u001b[0m \u001b[0mdata_names\u001b[0m\u001b[0;34m,\u001b[0m \u001b[0mindex\u001b[0m\u001b[0;34m,\u001b[0m \u001b[0mcolumns\u001b[0m\u001b[0;34m,\u001b[0m \u001b[0mdtype\u001b[0m\u001b[0;34m=\u001b[0m\u001b[0mdtype\u001b[0m\u001b[0;34m)\u001b[0m\u001b[0;34m\u001b[0m\u001b[0m\n\u001b[0m\u001b[1;32m    462\u001b[0m \u001b[0;34m\u001b[0m\u001b[0m\n\u001b[1;32m    463\u001b[0m     \u001b[0;32mdef\u001b[0m \u001b[0m_init_ndarray\u001b[0m\u001b[0;34m(\u001b[0m\u001b[0mself\u001b[0m\u001b[0;34m,\u001b[0m \u001b[0mvalues\u001b[0m\u001b[0;34m,\u001b[0m \u001b[0mindex\u001b[0m\u001b[0;34m,\u001b[0m \u001b[0mcolumns\u001b[0m\u001b[0;34m,\u001b[0m \u001b[0mdtype\u001b[0m\u001b[0;34m=\u001b[0m\u001b[0mNone\u001b[0m\u001b[0;34m,\u001b[0m \u001b[0mcopy\u001b[0m\u001b[0;34m=\u001b[0m\u001b[0mFalse\u001b[0m\u001b[0;34m)\u001b[0m\u001b[0;34m:\u001b[0m\u001b[0;34m\u001b[0m\u001b[0m\n",
      "\u001b[0;32m/usr/local/lib/python2.7/site-packages/pandas/core/frame.pyc\u001b[0m in \u001b[0;36m_arrays_to_mgr\u001b[0;34m(arrays, arr_names, index, columns, dtype)\u001b[0m\n\u001b[1;32m   6171\u001b[0m     \u001b[0maxes\u001b[0m \u001b[0;34m=\u001b[0m \u001b[0;34m[\u001b[0m\u001b[0m_ensure_index\u001b[0m\u001b[0;34m(\u001b[0m\u001b[0mcolumns\u001b[0m\u001b[0;34m)\u001b[0m\u001b[0;34m,\u001b[0m \u001b[0m_ensure_index\u001b[0m\u001b[0;34m(\u001b[0m\u001b[0mindex\u001b[0m\u001b[0;34m)\u001b[0m\u001b[0;34m]\u001b[0m\u001b[0;34m\u001b[0m\u001b[0m\n\u001b[1;32m   6172\u001b[0m \u001b[0;34m\u001b[0m\u001b[0m\n\u001b[0;32m-> 6173\u001b[0;31m     \u001b[0;32mreturn\u001b[0m \u001b[0mcreate_block_manager_from_arrays\u001b[0m\u001b[0;34m(\u001b[0m\u001b[0marrays\u001b[0m\u001b[0;34m,\u001b[0m \u001b[0marr_names\u001b[0m\u001b[0;34m,\u001b[0m \u001b[0maxes\u001b[0m\u001b[0;34m)\u001b[0m\u001b[0;34m\u001b[0m\u001b[0m\n\u001b[0m\u001b[1;32m   6174\u001b[0m \u001b[0;34m\u001b[0m\u001b[0m\n\u001b[1;32m   6175\u001b[0m \u001b[0;34m\u001b[0m\u001b[0m\n",
      "\u001b[0;32m/usr/local/lib/python2.7/site-packages/pandas/core/internals.pyc\u001b[0m in \u001b[0;36mcreate_block_manager_from_arrays\u001b[0;34m(arrays, names, axes)\u001b[0m\n\u001b[1;32m   4640\u001b[0m         \u001b[0;32mreturn\u001b[0m \u001b[0mmgr\u001b[0m\u001b[0;34m\u001b[0m\u001b[0m\n\u001b[1;32m   4641\u001b[0m     \u001b[0;32mexcept\u001b[0m \u001b[0mValueError\u001b[0m \u001b[0;32mas\u001b[0m \u001b[0me\u001b[0m\u001b[0;34m:\u001b[0m\u001b[0;34m\u001b[0m\u001b[0m\n\u001b[0;32m-> 4642\u001b[0;31m         \u001b[0mconstruction_error\u001b[0m\u001b[0;34m(\u001b[0m\u001b[0mlen\u001b[0m\u001b[0;34m(\u001b[0m\u001b[0marrays\u001b[0m\u001b[0;34m)\u001b[0m\u001b[0;34m,\u001b[0m \u001b[0marrays\u001b[0m\u001b[0;34m[\u001b[0m\u001b[0;36m0\u001b[0m\u001b[0;34m]\u001b[0m\u001b[0;34m.\u001b[0m\u001b[0mshape\u001b[0m\u001b[0;34m,\u001b[0m \u001b[0maxes\u001b[0m\u001b[0;34m,\u001b[0m \u001b[0me\u001b[0m\u001b[0;34m)\u001b[0m\u001b[0;34m\u001b[0m\u001b[0m\n\u001b[0m\u001b[1;32m   4643\u001b[0m \u001b[0;34m\u001b[0m\u001b[0m\n\u001b[1;32m   4644\u001b[0m \u001b[0;34m\u001b[0m\u001b[0m\n",
      "\u001b[0;32m/usr/local/lib/python2.7/site-packages/pandas/core/internals.pyc\u001b[0m in \u001b[0;36mconstruction_error\u001b[0;34m(tot_items, block_shape, axes, e)\u001b[0m\n\u001b[1;32m   4606\u001b[0m         \u001b[0;32mraise\u001b[0m \u001b[0mValueError\u001b[0m\u001b[0;34m(\u001b[0m\u001b[0;34m\"Empty data passed with indices specified.\"\u001b[0m\u001b[0;34m)\u001b[0m\u001b[0;34m\u001b[0m\u001b[0m\n\u001b[1;32m   4607\u001b[0m     raise ValueError(\"Shape of passed values is {0}, indices imply {1}\".format(\n\u001b[0;32m-> 4608\u001b[0;31m         passed, implied))\n\u001b[0m\u001b[1;32m   4609\u001b[0m \u001b[0;34m\u001b[0m\u001b[0m\n\u001b[1;32m   4610\u001b[0m \u001b[0;34m\u001b[0m\u001b[0m\n",
      "\u001b[0;31mValueError\u001b[0m: Shape of passed values is (10056, 29), indices imply (10056, 7)"
     ]
    }
   ],
   "source": [
    "df_hits.apply(lambda row: rh_filter(row, branch = 'rechit_energy'), axis=1)"
   ]
  },
  {
   "cell_type": "code",
   "execution_count": null,
   "metadata": {},
   "outputs": [],
   "source": []
  },
  {
   "cell_type": "code",
   "execution_count": null,
   "metadata": {},
   "outputs": [],
   "source": []
  },
  {
   "cell_type": "code",
   "execution_count": null,
   "metadata": {},
   "outputs": [],
   "source": []
  },
  {
   "cell_type": "code",
   "execution_count": 157,
   "metadata": {},
   "outputs": [
    {
     "data": {
      "text/html": [
       "<div>\n",
       "<style scoped>\n",
       "    .dataframe tbody tr th:only-of-type {\n",
       "        vertical-align: middle;\n",
       "    }\n",
       "\n",
       "    .dataframe tbody tr th {\n",
       "        vertical-align: top;\n",
       "    }\n",
       "\n",
       "    .dataframe thead th {\n",
       "        text-align: right;\n",
       "    }\n",
       "</style>\n",
       "<table border=\"1\" class=\"dataframe\">\n",
       "  <thead>\n",
       "    <tr style=\"text-align: right;\">\n",
       "      <th></th>\n",
       "      <th>ntracks</th>\n",
       "      <th>impactX_HGCal_layer_1</th>\n",
       "      <th>impactY_HGCal_layer_1</th>\n",
       "    </tr>\n",
       "  </thead>\n",
       "  <tbody>\n",
       "    <tr>\n",
       "      <th>0</th>\n",
       "      <td>0</td>\n",
       "      <td>[-5.3245564]</td>\n",
       "      <td>[-1.2472391]</td>\n",
       "    </tr>\n",
       "    <tr>\n",
       "      <th>1</th>\n",
       "      <td>0</td>\n",
       "      <td>[0.63384724]</td>\n",
       "      <td>[2.4550781]</td>\n",
       "    </tr>\n",
       "  </tbody>\n",
       "</table>\n",
       "</div>"
      ],
      "text/plain": [
       "   ntracks impactX_HGCal_layer_1 impactY_HGCal_layer_1\n",
       "0        0          [-5.3245564]          [-1.2472391]\n",
       "1        0          [0.63384724]           [2.4550781]"
      ]
     },
     "execution_count": 157,
     "metadata": {},
     "output_type": "execute_result"
    }
   ],
   "source": [
    "df_tracks[:2]"
   ]
  },
  {
   "cell_type": "code",
   "execution_count": null,
   "metadata": {},
   "outputs": [],
   "source": []
  },
  {
   "cell_type": "code",
   "execution_count": null,
   "metadata": {},
   "outputs": [],
   "source": []
  },
  {
   "cell_type": "code",
   "execution_count": 158,
   "metadata": {},
   "outputs": [
    {
     "data": {
      "text/plain": [
       "10056"
      ]
     },
     "execution_count": 158,
     "metadata": {},
     "output_type": "execute_result"
    }
   ],
   "source": [
    "len(df_info)"
   ]
  },
  {
   "cell_type": "code",
   "execution_count": 159,
   "metadata": {},
   "outputs": [
    {
     "data": {
      "text/plain": [
       "10056"
      ]
     },
     "execution_count": 159,
     "metadata": {},
     "output_type": "execute_result"
    }
   ],
   "source": [
    "len(df_hits)"
   ]
  },
  {
   "cell_type": "code",
   "execution_count": 160,
   "metadata": {},
   "outputs": [
    {
     "data": {
      "text/plain": [
       "10056"
      ]
     },
     "execution_count": 160,
     "metadata": {},
     "output_type": "execute_result"
    }
   ],
   "source": [
    "len(df_tracks)"
   ]
  },
  {
   "cell_type": "code",
   "execution_count": 161,
   "metadata": {},
   "outputs": [],
   "source": [
    "df_tracks = pd.concat([df_info, df_tracks], axis=1, join_axes=[df_info.index])"
   ]
  },
  {
   "cell_type": "code",
   "execution_count": 162,
   "metadata": {},
   "outputs": [],
   "source": [
    "df_all = pd.concat([df_hits, df_tracks], axis=1, join_axes=[df_hits.index])"
   ]
  },
  {
   "cell_type": "code",
   "execution_count": 163,
   "metadata": {},
   "outputs": [
    {
     "data": {
      "text/html": [
       "<div>\n",
       "<style scoped>\n",
       "    .dataframe tbody tr th:only-of-type {\n",
       "        vertical-align: middle;\n",
       "    }\n",
       "\n",
       "    .dataframe tbody tr th {\n",
       "        vertical-align: top;\n",
       "    }\n",
       "\n",
       "    .dataframe thead th {\n",
       "        text-align: right;\n",
       "    }\n",
       "</style>\n",
       "<table border=\"1\" class=\"dataframe\">\n",
       "  <thead>\n",
       "    <tr style=\"text-align: right;\">\n",
       "      <th></th>\n",
       "      <th>rechit_skiroc</th>\n",
       "      <th>rechit_channel</th>\n",
       "      <th>rechit_x</th>\n",
       "      <th>rechit_y</th>\n",
       "      <th>rechit_energy</th>\n",
       "      <th>rechit_layer</th>\n",
       "      <th>nhits</th>\n",
       "      <th>run</th>\n",
       "      <th>event</th>\n",
       "      <th>PI_positionX</th>\n",
       "      <th>PI_positionY</th>\n",
       "      <th>ntracks</th>\n",
       "      <th>impactX_HGCal_layer_1</th>\n",
       "      <th>impactY_HGCal_layer_1</th>\n",
       "    </tr>\n",
       "  </thead>\n",
       "  <tbody>\n",
       "    <tr>\n",
       "      <th>0</th>\n",
       "      <td>[3, 0, 5, 7, 4, 4, 7, 4, 4, 4, 4, 7, 7, 7, 7, ...</td>\n",
       "      <td>[36, 18, 34, 20, 26, 24, 18, 30, 28, 22, 34, 3...</td>\n",
       "      <td>[1.000202e-05, -1.9488935, 1.000202e-05, -0.97...</td>\n",
       "      <td>[1.12519, 1.0003498e-05, 1.12519, -5.06339, 1....</td>\n",
       "      <td>[0.35155967, 0.39493895, 0.49695483, 1.9753718...</td>\n",
       "      <td>[1, 1, 2, 2, 2, 2, 2, 2, 2, 2, 2, 2, 2, 2, 2, ...</td>\n",
       "      <td>2</td>\n",
       "      <td>0</td>\n",
       "      <td>0</td>\n",
       "      <td>0.0</td>\n",
       "      <td>0.0</td>\n",
       "      <td>0</td>\n",
       "      <td>[-5.3245564]</td>\n",
       "      <td>[-1.2472391]</td>\n",
       "    </tr>\n",
       "    <tr>\n",
       "      <th>1</th>\n",
       "      <td>[1, 1, 2, 6, 7, 4, 7, 4, 7, 5, 11, 11, 11, 11,...</td>\n",
       "      <td>[8, 44, 38, 36, 56, 26, 18, 28, 32, 44, 36, 38...</td>\n",
       "      <td>[9.989902e-06, 2.9233453, 0.97444177, 1e-05, -...</td>\n",
       "      <td>[-5.62599, -2.81299, 0.56259, 1e-05, -2.81299,...</td>\n",
       "      <td>[0.5169128, 1.070182, 0.35918677, 1.1010299, 1...</td>\n",
       "      <td>[1, 1, 1, 2, 2, 2, 2, 2, 2, 2, 3, 3, 3, 3, 3, ...</td>\n",
       "      <td>3</td>\n",
       "      <td>0</td>\n",
       "      <td>0</td>\n",
       "      <td>0.0</td>\n",
       "      <td>0.0</td>\n",
       "      <td>0</td>\n",
       "      <td>[0.63384724]</td>\n",
       "      <td>[2.4550781]</td>\n",
       "    </tr>\n",
       "    <tr>\n",
       "      <th>2</th>\n",
       "      <td>[3, 3, 5, 4, 7, 4, 4, 7, 7, 7, 5, 7, 11, 11, 1...</td>\n",
       "      <td>[18, 16, 18, 26, 18, 30, 28, 32, 30, 28, 12, 2...</td>\n",
       "      <td>[-1.9488935, -3.897797, 1.0006059e-05, -0.9744...</td>\n",
       "      <td>[5.62599, 5.62599, 3.3755898, 1.6877899, -5.62...</td>\n",
       "      <td>[0.36451125, 0.41558436, 0.45885077, 5.7964635...</td>\n",
       "      <td>[1, 1, 2, 2, 2, 2, 2, 2, 2, 2, 2, 2, 3, 3, 3, ...</td>\n",
       "      <td>2</td>\n",
       "      <td>0</td>\n",
       "      <td>0</td>\n",
       "      <td>0.0</td>\n",
       "      <td>0.0</td>\n",
       "      <td>0</td>\n",
       "      <td>[5.841098]</td>\n",
       "      <td>[2.234633]</td>\n",
       "    </tr>\n",
       "  </tbody>\n",
       "</table>\n",
       "</div>"
      ],
      "text/plain": [
       "                                       rechit_skiroc  \\\n",
       "0  [3, 0, 5, 7, 4, 4, 7, 4, 4, 4, 4, 7, 7, 7, 7, ...   \n",
       "1  [1, 1, 2, 6, 7, 4, 7, 4, 7, 5, 11, 11, 11, 11,...   \n",
       "2  [3, 3, 5, 4, 7, 4, 4, 7, 7, 7, 5, 7, 11, 11, 1...   \n",
       "\n",
       "                                      rechit_channel  \\\n",
       "0  [36, 18, 34, 20, 26, 24, 18, 30, 28, 22, 34, 3...   \n",
       "1  [8, 44, 38, 36, 56, 26, 18, 28, 32, 44, 36, 38...   \n",
       "2  [18, 16, 18, 26, 18, 30, 28, 32, 30, 28, 12, 2...   \n",
       "\n",
       "                                            rechit_x  \\\n",
       "0  [1.000202e-05, -1.9488935, 1.000202e-05, -0.97...   \n",
       "1  [9.989902e-06, 2.9233453, 0.97444177, 1e-05, -...   \n",
       "2  [-1.9488935, -3.897797, 1.0006059e-05, -0.9744...   \n",
       "\n",
       "                                            rechit_y  \\\n",
       "0  [1.12519, 1.0003498e-05, 1.12519, -5.06339, 1....   \n",
       "1  [-5.62599, -2.81299, 0.56259, 1e-05, -2.81299,...   \n",
       "2  [5.62599, 5.62599, 3.3755898, 1.6877899, -5.62...   \n",
       "\n",
       "                                       rechit_energy  \\\n",
       "0  [0.35155967, 0.39493895, 0.49695483, 1.9753718...   \n",
       "1  [0.5169128, 1.070182, 0.35918677, 1.1010299, 1...   \n",
       "2  [0.36451125, 0.41558436, 0.45885077, 5.7964635...   \n",
       "\n",
       "                                        rechit_layer  nhits  run  event  \\\n",
       "0  [1, 1, 2, 2, 2, 2, 2, 2, 2, 2, 2, 2, 2, 2, 2, ...      2    0      0   \n",
       "1  [1, 1, 1, 2, 2, 2, 2, 2, 2, 2, 3, 3, 3, 3, 3, ...      3    0      0   \n",
       "2  [1, 1, 2, 2, 2, 2, 2, 2, 2, 2, 2, 2, 3, 3, 3, ...      2    0      0   \n",
       "\n",
       "   PI_positionX  PI_positionY  ntracks impactX_HGCal_layer_1  \\\n",
       "0           0.0           0.0        0          [-5.3245564]   \n",
       "1           0.0           0.0        0          [0.63384724]   \n",
       "2           0.0           0.0        0            [5.841098]   \n",
       "\n",
       "  impactY_HGCal_layer_1  \n",
       "0          [-1.2472391]  \n",
       "1           [2.4550781]  \n",
       "2            [2.234633]  "
      ]
     },
     "execution_count": 163,
     "metadata": {},
     "output_type": "execute_result"
    }
   ],
   "source": [
    "df_all[:3]"
   ]
  },
  {
   "cell_type": "code",
   "execution_count": 164,
   "metadata": {},
   "outputs": [],
   "source": [
    "selection = df_all.ntracks == 1\n",
    "#selection &= df_all.nhits == 1"
   ]
  },
  {
   "cell_type": "code",
   "execution_count": null,
   "metadata": {},
   "outputs": [],
   "source": []
  },
  {
   "cell_type": "code",
   "execution_count": 165,
   "metadata": {},
   "outputs": [],
   "source": [
    "df_all = df_all[selection]"
   ]
  },
  {
   "cell_type": "code",
   "execution_count": null,
   "metadata": {},
   "outputs": [],
   "source": []
  },
  {
   "cell_type": "code",
   "execution_count": 166,
   "metadata": {},
   "outputs": [
    {
     "data": {
      "text/plain": [
       "(array([0., 0., 0., 0., 0., 0.]),\n",
       " array([0, 1, 2, 3, 4, 5, 6]),\n",
       " <a list of 6 Patch objects>)"
      ]
     },
     "execution_count": 166,
     "metadata": {},
     "output_type": "execute_result"
    },
    {
     "data": {
      "image/png": "[encoded data removed]",
      "text/plain": [
       "<matplotlib.figure.Figure at 0x10bcf1f50>"
      ]
     },
     "metadata": {},
     "output_type": "display_data"
    }
   ],
   "source": [
    "plt.hist(df_all.nhits, bins = range(7))"
   ]
  },
  {
   "cell_type": "code",
   "execution_count": null,
   "metadata": {},
   "outputs": [],
   "source": []
  },
  {
   "cell_type": "code",
   "execution_count": null,
   "metadata": {},
   "outputs": [],
   "source": []
  },
  {
   "cell_type": "code",
   "execution_count": 132,
   "metadata": {},
   "outputs": [
    {
     "data": {
      "text/html": [
       "<div>\n",
       "<style scoped>\n",
       "    .dataframe tbody tr th:only-of-type {\n",
       "        vertical-align: middle;\n",
       "    }\n",
       "\n",
       "    .dataframe tbody tr th {\n",
       "        vertical-align: top;\n",
       "    }\n",
       "\n",
       "    .dataframe thead th {\n",
       "        text-align: right;\n",
       "    }\n",
       "</style>\n",
       "<table border=\"1\" class=\"dataframe\">\n",
       "  <thead>\n",
       "    <tr style=\"text-align: right;\">\n",
       "      <th></th>\n",
       "      <th>rechit_skiroc</th>\n",
       "      <th>rechit_channel</th>\n",
       "      <th>rechit_x</th>\n",
       "      <th>rechit_y</th>\n",
       "      <th>rechit_energy</th>\n",
       "      <th>rechit_layer</th>\n",
       "      <th>nhits</th>\n",
       "      <th>run</th>\n",
       "      <th>event</th>\n",
       "      <th>PI_positionX</th>\n",
       "      <th>PI_positionY</th>\n",
       "      <th>ntracks</th>\n",
       "      <th>impactX_HGCal_layer_1</th>\n",
       "      <th>impactY_HGCal_layer_1</th>\n",
       "      <th>impact_x</th>\n",
       "      <th>impact_y</th>\n",
       "    </tr>\n",
       "  </thead>\n",
       "  <tbody>\n",
       "    <tr>\n",
       "      <th>2</th>\n",
       "      <td>[3, 3, 5, 4, 7, 4, 4, 7, 7, 7, 5, 7, 11, 11, 1...</td>\n",
       "      <td>[18, 16, 18, 26, 18, 30, 28, 32, 30, 28, 12, 2...</td>\n",
       "      <td>[-101.26478, -103.213684, -99.31588, -100.2903...</td>\n",
       "      <td>[-94.050545, -94.050545, -96.30095, -97.98875,...</td>\n",
       "      <td>[0.36451125, 0.41558436, 0.45885077, 5.7964635...</td>\n",
       "      <td>[1, 1, 2, 2, 2, 2, 2, 2, 2, 2, 2, 2, 3, 3, 3, ...</td>\n",
       "      <td>1</td>\n",
       "      <td>1222</td>\n",
       "      <td>3</td>\n",
       "      <td>0</td>\n",
       "      <td>0</td>\n",
       "      <td>1</td>\n",
       "      <td>[5.841098]</td>\n",
       "      <td>[2.234633]</td>\n",
       "      <td>-993.158902</td>\n",
       "      <td>-996.765367</td>\n",
       "    </tr>\n",
       "    <tr>\n",
       "      <th>4</th>\n",
       "      <td>[0, 0, 1, 4, 7, 4, 4, 7, 7, 6, 7, 11, 11, 11, ...</td>\n",
       "      <td>[28, 18, 48, 26, 18, 30, 28, 14, 30, 40, 26, 3...</td>\n",
       "      <td>[-102.48834, -102.48834, -95.667206, -101.5138...</td>\n",
       "      <td>[-102.121185, -99.87079, -103.80898, -98.18301...</td>\n",
       "      <td>[0.39379656, 1.1645092, 0.37394753, 4.766571, ...</td>\n",
       "      <td>[1, 1, 1, 2, 2, 2, 2, 2, 2, 2, 2, 3, 3, 3, 3, ...</td>\n",
       "      <td>1</td>\n",
       "      <td>1222</td>\n",
       "      <td>5</td>\n",
       "      <td>0</td>\n",
       "      <td>0</td>\n",
       "      <td>1</td>\n",
       "      <td>[-6.394548]</td>\n",
       "      <td>[0.2920332]</td>\n",
       "      <td>-1005.394548</td>\n",
       "      <td>-998.707967</td>\n",
       "    </tr>\n",
       "  </tbody>\n",
       "</table>\n",
       "</div>"
      ],
      "text/plain": [
       "                                       rechit_skiroc  \\\n",
       "2  [3, 3, 5, 4, 7, 4, 4, 7, 7, 7, 5, 7, 11, 11, 1...   \n",
       "4  [0, 0, 1, 4, 7, 4, 4, 7, 7, 6, 7, 11, 11, 11, ...   \n",
       "\n",
       "                                      rechit_channel  \\\n",
       "2  [18, 16, 18, 26, 18, 30, 28, 32, 30, 28, 12, 2...   \n",
       "4  [28, 18, 48, 26, 18, 30, 28, 14, 30, 40, 26, 3...   \n",
       "\n",
       "                                            rechit_x  \\\n",
       "2  [-101.26478, -103.213684, -99.31588, -100.2903...   \n",
       "4  [-102.48834, -102.48834, -95.667206, -101.5138...   \n",
       "\n",
       "                                            rechit_y  \\\n",
       "2  [-94.050545, -94.050545, -96.30095, -97.98875,...   \n",
       "4  [-102.121185, -99.87079, -103.80898, -98.18301...   \n",
       "\n",
       "                                       rechit_energy  \\\n",
       "2  [0.36451125, 0.41558436, 0.45885077, 5.7964635...   \n",
       "4  [0.39379656, 1.1645092, 0.37394753, 4.766571, ...   \n",
       "\n",
       "                                        rechit_layer  nhits   run  event  \\\n",
       "2  [1, 1, 2, 2, 2, 2, 2, 2, 2, 2, 2, 2, 3, 3, 3, ...      1  1222      3   \n",
       "4  [1, 1, 1, 2, 2, 2, 2, 2, 2, 2, 2, 3, 3, 3, 3, ...      1  1222      5   \n",
       "\n",
       "   PI_positionX  PI_positionY  ntracks impactX_HGCal_layer_1  \\\n",
       "2             0             0        1            [5.841098]   \n",
       "4             0             0        1           [-6.394548]   \n",
       "\n",
       "  impactY_HGCal_layer_1     impact_x    impact_y  \n",
       "2            [2.234633]  -993.158902 -996.765367  \n",
       "4           [0.2920332] -1005.394548 -998.707967  "
      ]
     },
     "execution_count": 132,
     "metadata": {},
     "output_type": "execute_result"
    }
   ],
   "source": [
    "df_all[:2]"
   ]
  },
  {
   "cell_type": "code",
   "execution_count": 131,
   "metadata": {},
   "outputs": [
    {
     "data": {
      "text/plain": [
       "2    False\n",
       "4    False\n",
       "dtype: bool"
      ]
     },
     "execution_count": 131,
     "metadata": {},
     "output_type": "execute_result"
    }
   ],
   "source": [
    "df_all.apply(rh_filter_pos, axis=1)[:2]"
   ]
  },
  {
   "cell_type": "code",
   "execution_count": null,
   "metadata": {},
   "outputs": [],
   "source": []
  },
  {
   "cell_type": "code",
   "execution_count": 106,
   "metadata": {},
   "outputs": [],
   "source": [
    "## convert Series to float for impact position (take first element, which for ntracks=1 is the only one)\n",
    "impact_x = df_all.apply(lambda row: row.impactX_HGCal_layer_1[0], axis=1)\n",
    "impact_y = df_all.apply(lambda row: row.impactY_HGCal_layer_1[0], axis=1)"
   ]
  },
  {
   "cell_type": "code",
   "execution_count": 107,
   "metadata": {},
   "outputs": [],
   "source": [
    "df_all.loc[impact_x.index, 'impact_x'] = impact_x\n",
    "df_all.loc[impact_y.index, 'impact_y'] = impact_y"
   ]
  },
  {
   "cell_type": "code",
   "execution_count": 108,
   "metadata": {
    "scrolled": false
   },
   "outputs": [
    {
     "data": {
      "text/html": [
       "<div>\n",
       "<style scoped>\n",
       "    .dataframe tbody tr th:only-of-type {\n",
       "        vertical-align: middle;\n",
       "    }\n",
       "\n",
       "    .dataframe tbody tr th {\n",
       "        vertical-align: top;\n",
       "    }\n",
       "\n",
       "    .dataframe thead th {\n",
       "        text-align: right;\n",
       "    }\n",
       "</style>\n",
       "<table border=\"1\" class=\"dataframe\">\n",
       "  <thead>\n",
       "    <tr style=\"text-align: right;\">\n",
       "      <th></th>\n",
       "      <th>rechit_skiroc</th>\n",
       "      <th>rechit_channel</th>\n",
       "      <th>rechit_x</th>\n",
       "      <th>rechit_y</th>\n",
       "      <th>rechit_energy</th>\n",
       "      <th>rechit_layer</th>\n",
       "      <th>nhits</th>\n",
       "      <th>run</th>\n",
       "      <th>event</th>\n",
       "      <th>PI_positionX</th>\n",
       "      <th>PI_positionY</th>\n",
       "      <th>ntracks</th>\n",
       "      <th>impactX_HGCal_layer_1</th>\n",
       "      <th>impactY_HGCal_layer_1</th>\n",
       "      <th>impact_x</th>\n",
       "      <th>impact_y</th>\n",
       "    </tr>\n",
       "  </thead>\n",
       "  <tbody>\n",
       "    <tr>\n",
       "      <th>2</th>\n",
       "      <td>[3, 3, 5, 4, 7, 4, 4, 7, 7, 7, 5, 7, 11, 11, 1...</td>\n",
       "      <td>[18, 16, 18, 26, 18, 30, 28, 32, 30, 28, 12, 2...</td>\n",
       "      <td>[-1.9488935, -3.897797, 1.0006059e-05, -0.9744...</td>\n",
       "      <td>[5.62599, 5.62599, 3.3755898, 1.6877899, -5.62...</td>\n",
       "      <td>[0.36451125, 0.41558436, 0.45885077, 5.7964635...</td>\n",
       "      <td>[1, 1, 2, 2, 2, 2, 2, 2, 2, 2, 2, 2, 3, 3, 3, ...</td>\n",
       "      <td>1</td>\n",
       "      <td>1222</td>\n",
       "      <td>3</td>\n",
       "      <td>-999.0</td>\n",
       "      <td>-999.0</td>\n",
       "      <td>1</td>\n",
       "      <td>[5.841098]</td>\n",
       "      <td>[2.234633]</td>\n",
       "      <td>5.841098</td>\n",
       "      <td>2.234633</td>\n",
       "    </tr>\n",
       "    <tr>\n",
       "      <th>4</th>\n",
       "      <td>[0, 0, 1, 4, 7, 4, 4, 7, 7, 6, 7, 11, 11, 11, ...</td>\n",
       "      <td>[28, 18, 48, 26, 18, 30, 28, 14, 30, 40, 26, 3...</td>\n",
       "      <td>[-1.9488935, -1.9488935, 4.8722486, -0.9744417...</td>\n",
       "      <td>[-2.2503898, 1.0003498e-05, -3.93819, 1.687789...</td>\n",
       "      <td>[0.39379656, 1.1645092, 0.37394753, 4.766571, ...</td>\n",
       "      <td>[1, 1, 1, 2, 2, 2, 2, 2, 2, 2, 2, 3, 3, 3, 3, ...</td>\n",
       "      <td>1</td>\n",
       "      <td>1222</td>\n",
       "      <td>5</td>\n",
       "      <td>-999.0</td>\n",
       "      <td>-999.0</td>\n",
       "      <td>1</td>\n",
       "      <td>[-6.394548]</td>\n",
       "      <td>[0.2920332]</td>\n",
       "      <td>-6.394548</td>\n",
       "      <td>0.292033</td>\n",
       "    </tr>\n",
       "  </tbody>\n",
       "</table>\n",
       "</div>"
      ],
      "text/plain": [
       "                                       rechit_skiroc  \\\n",
       "2  [3, 3, 5, 4, 7, 4, 4, 7, 7, 7, 5, 7, 11, 11, 1...   \n",
       "4  [0, 0, 1, 4, 7, 4, 4, 7, 7, 6, 7, 11, 11, 11, ...   \n",
       "\n",
       "                                      rechit_channel  \\\n",
       "2  [18, 16, 18, 26, 18, 30, 28, 32, 30, 28, 12, 2...   \n",
       "4  [28, 18, 48, 26, 18, 30, 28, 14, 30, 40, 26, 3...   \n",
       "\n",
       "                                            rechit_x  \\\n",
       "2  [-1.9488935, -3.897797, 1.0006059e-05, -0.9744...   \n",
       "4  [-1.9488935, -1.9488935, 4.8722486, -0.9744417...   \n",
       "\n",
       "                                            rechit_y  \\\n",
       "2  [5.62599, 5.62599, 3.3755898, 1.6877899, -5.62...   \n",
       "4  [-2.2503898, 1.0003498e-05, -3.93819, 1.687789...   \n",
       "\n",
       "                                       rechit_energy  \\\n",
       "2  [0.36451125, 0.41558436, 0.45885077, 5.7964635...   \n",
       "4  [0.39379656, 1.1645092, 0.37394753, 4.766571, ...   \n",
       "\n",
       "                                        rechit_layer  nhits   run  event  \\\n",
       "2  [1, 1, 2, 2, 2, 2, 2, 2, 2, 2, 2, 2, 3, 3, 3, ...      1  1222      3   \n",
       "4  [1, 1, 1, 2, 2, 2, 2, 2, 2, 2, 2, 3, 3, 3, 3, ...      1  1222      5   \n",
       "\n",
       "   PI_positionX  PI_positionY  ntracks impactX_HGCal_layer_1  \\\n",
       "2        -999.0        -999.0        1            [5.841098]   \n",
       "4        -999.0        -999.0        1           [-6.394548]   \n",
       "\n",
       "  impactY_HGCal_layer_1  impact_x  impact_y  \n",
       "2            [2.234633]  5.841098  2.234633  \n",
       "4           [0.2920332] -6.394548  0.292033  "
      ]
     },
     "execution_count": 108,
     "metadata": {},
     "output_type": "execute_result"
    }
   ],
   "source": [
    "df_all[:2]"
   ]
  },
  {
   "cell_type": "code",
   "execution_count": null,
   "metadata": {},
   "outputs": [],
   "source": []
  },
  {
   "cell_type": "code",
   "execution_count": 109,
   "metadata": {},
   "outputs": [],
   "source": [
    "df_all['impact_x'] = df_all.impact_x + df_all.PI_positionX\n",
    "df_all['impact_y'] = df_all.impact_y + df_all.PI_positionY"
   ]
  },
  {
   "cell_type": "code",
   "execution_count": 110,
   "metadata": {},
   "outputs": [],
   "source": [
    "df_all.PI_positionX = df_all.apply(lambda row: max(row.PI_positionX,0), axis=1)\n",
    "df_all.PI_positionY = df_all.apply(lambda row: max(row.PI_positionY,0), axis=1)"
   ]
  },
  {
   "cell_type": "code",
   "execution_count": null,
   "metadata": {},
   "outputs": [],
   "source": []
  },
  {
   "cell_type": "code",
   "execution_count": null,
   "metadata": {},
   "outputs": [],
   "source": []
  },
  {
   "cell_type": "code",
   "execution_count": 111,
   "metadata": {},
   "outputs": [],
   "source": [
    "df_all.rechit_x += df_all.impact_x/10.\n",
    "df_all.rechit_y += df_all.impact_y/10."
   ]
  },
  {
   "cell_type": "code",
   "execution_count": 112,
   "metadata": {},
   "outputs": [
    {
     "data": {
      "text/plain": [
       "array([-101.26478 , -103.213684,  -99.31588 , ...,  -99.00931 ,\n",
       "       -100.95819 ,  -96.08595 ], dtype=float32)"
      ]
     },
     "execution_count": 112,
     "metadata": {},
     "output_type": "execute_result"
    }
   ],
   "source": [
    "np.concatenate(list(df_all.rechit_x))"
   ]
  },
  {
   "cell_type": "code",
   "execution_count": 113,
   "metadata": {},
   "outputs": [
    {
     "data": {
      "text/plain": [
       "<matplotlib.collections.PathCollection at 0x10b192190>"
      ]
     },
     "execution_count": 113,
     "metadata": {},
     "output_type": "execute_result"
    },
    {
     "data": {
      "image/png": "[encoded data removed]",
      "text/plain": [
       "<matplotlib.figure.Figure at 0x10aeafe90>"
      ]
     },
     "metadata": {},
     "output_type": "display_data"
    }
   ],
   "source": [
    "plt.scatter(np.concatenate(list(df_all.rechit_x)),\n",
    "            np.concatenate(list(df_all.rechit_y)),\n",
    "            c = np.concatenate(list(df_all.rechit_channel)))"
   ]
  },
  {
   "cell_type": "code",
   "execution_count": 27,
   "metadata": {},
   "outputs": [
    {
     "data": {
      "image/png": "[encoded data removed]",
      "text/plain": [
       "<matplotlib.figure.Figure at 0x10c2fcc50>"
      ]
     },
     "metadata": {},
     "output_type": "display_data"
    }
   ],
   "source": [
    "xs, ys = np.concatenate(list(df_all.rechit_x)), np.concatenate(list(df_all.rechit_y))\n",
    "n, _, _, _ = plt.hist2d(xs, ys, 100)"
   ]
  },
  {
   "cell_type": "code",
   "execution_count": 28,
   "metadata": {},
   "outputs": [
    {
     "data": {
      "text/plain": [
       "<matplotlib.collections.PathCollection at 0x10d8ee990>"
      ]
     },
     "execution_count": 28,
     "metadata": {},
     "output_type": "execute_result"
    },
    {
     "data": {
      "image/png": "[encoded data removed]",
      "text/plain": [
       "<matplotlib.figure.Figure at 0x10c2bf1d0>"
      ]
     },
     "metadata": {},
     "output_type": "display_data"
    }
   ],
   "source": [
    "plt.scatter(df_all.impactY_HGCal_layer_1,df_all.impactX_HGCal_layer_1)"
   ]
  },
  {
   "cell_type": "code",
   "execution_count": null,
   "metadata": {},
   "outputs": [],
   "source": []
  },
  {
   "cell_type": "code",
   "execution_count": null,
   "metadata": {},
   "outputs": [],
   "source": []
  },
  {
   "cell_type": "code",
   "execution_count": null,
   "metadata": {},
   "outputs": [],
   "source": []
  }
 ],
 "metadata": {
  "kernelspec": {
   "display_name": "Python 2",
   "language": "python",
   "name": "python2"
  },
  "language_info": {
   "codemirror_mode": {
    "name": "ipython",
    "version": 2
   },
   "file_extension": ".py",
   "mimetype": "text/x-python",
   "name": "python",
   "nbconvert_exporter": "python",
   "pygments_lexer": "ipython2",
   "version": "2.7.15"
  }
 },
 "nbformat": 4,
 "nbformat_minor": 2
}
